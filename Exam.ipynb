{
 "cells": [
  {
   "cell_type": "markdown",
   "metadata": {},
   "source": [
    "<h1><center>«Portfolio-Exam Part II» </center></h1>\n",
    "<h2><center>MADS-ML </center></h2>\n",
    "<h3><center>Author: Tom Wüsten </center></h3>\n",
    "\n",
    "### Introduction\n",
    "This paper deals with the topic of marketing campaigns in the banking sector. It specifically examines a Portuguese bank whose aim is to sell a product over the phone. This product is a term deposit (deposit in a financial institution with a specific maturity date). The aim of this work is to create a machine learning model that predict the success of a subscriben for a term deposit. The first step in creating a machine learning model is to analyse the data and do a data exploration. The data exploration investigated whether certain age groups, jobs or the number of calls are conspicuously concluding a term deposit. In order to find the best possible machine learning algorithm, different algorithms are compared with each other.\n",
    "\n",
    "\n",
    "\n",
    "### Dataset Licence\n",
    "CC BY 4.0 <br>\n",
    "\n",
    "\n",
    "### Dataset Information:\n",
    "\n",
    "There are several datasets for this marketing campaign of the bank. I choosed the dataset bank-additional.csv because it has only 10% of the dataset bank-additional-full.csv. The reason is to keep the run time of the notebook low. The reduced dataset contains 4119 instances with 21 attributes, where each instance describes a phone call between a bank employee and a bank customer.\n",
    "All following information about the attributes are copied from uci machine learning repository. [[1]](#100) <br>\n",
    "##### bank client data:\n",
    "1 - age (numeric) <br>\n",
    "2 - job : type of job (categorical: 'admin.','blue-collar','entrepreneur','housemaid','management','retired','self-employed','services','student','technician','unemployed','unknown') <br>\n",
    "3 - marital : marital status (categorical: 'divorced','married','single','unknown'; note: 'divorced' means divorced or widowed) <br>\n",
    "4 - education (categorical: 'basic.4y','basic.6y','basic.9y','high.school','illiterate','professional.course','university.degree','unknown') <br>\n",
    "5 - default: has credit in default? (categorical: 'no','yes','unknown') <br>\n",
    "6 - housing: has housing loan? (categorical: 'no','yes','unknown') <br>\n",
    "7 - loan: has personal loan? (categorical: 'no','yes','unknown') <br>\n",
    "#####  related with the last contact of the current campaign: \n",
    "8 - contact: contact communication type (categorical: 'cellular','telephone') <br>\n",
    "9 - month: last contact month of year (categorical: 'jan', 'feb', 'mar', ..., 'nov', 'dec') <br>\n",
    "10 - day_of_week: last contact day of the week (categorical: 'mon','tue','wed','thu','fri') <br>\n",
    "11 - duration: last contact duration, in seconds (numeric). Important note: this attribute highly affects the output target (e.g., if duration=0 then y='no'). <br>\n",
    "Yet, the duration is not known before a call is performed. Also, after the end of the call y is obviously known. <br>\n",
    "Thus, this input should only be included for benchmark purposes and should be discarded if the intention is to have a realistic predictive model.\n",
    "#####  other attributes:\n",
    "12 - campaign: number of contacts performed during this campaign and for this client (numeric, includes last contact) <br>\n",
    "13 - pdays: number of days that passed by after the client was last contacted from a previous campaign (numeric; 999 means client was not previously contacted) <br>\n",
    "14 - previous: number of contacts performed before this campaign and for this client (numeric) <br>\n",
    "15 - poutcome: outcome of the previous marketing campaign (categorical: 'failure','nonexistent','success') <br>\n",
    "#####  social and economic context attributes\n",
    "16 - emp.var.rate: employment variation rate - quarterly indicator (numeric) <br>\n",
    "17 - cons.price.idx: consumer price index - monthly indicator (numeric) <br>\n",
    "18 - cons.conf.idx: consumer confidence index - monthly indicator (numeric) <br>\n",
    "19 - euribor3m: euribor 3 month rate - daily indicator (numeric) <br>\n",
    "20 - nr.employed: number of employees - quarterly indicator (numeric) <br>\n",
    "\n",
    "#####  Output variable (desired target):\n",
    "21 - y - has the client subscribed a term deposit? (binary: 'yes','no') <br>\n",
    "\n",
    "### Outline\n",
    "* [Data Cleansing](#1) <br>\n",
    "* [Data Exploration](#2) <br>\n",
    "\t* [Relationship between age and subscribing of contracts](#20) <br>\n",
    "\t* [Relationship between job and subscribing of contracts](#21) <br>\n",
    "\t* [Relationship between marketing campaigns and subscribing of contracts](#23) <br>\n",
    "* [Data Preparation](#3) <br>\n",
    "* [Classification](#4) <br>\n",
    "\t* [Decision Tree](#5) <br>\n",
    "\t\t* [balanced Decision Tree](#6) <br>\n",
    "\t* [Random Forest](#7) <br>\n",
    "\t\t* [balanced Random Forest](#8) <br>\n",
    "\t* [Support Vector Machines](#9) <br>\n",
    "* [Results](#10) <br>\n",
    "* [References](#11) <br>"
   ]
  },
  {
   "cell_type": "code",
   "execution_count": 6,
   "metadata": {},
   "outputs": [],
   "source": [
    "# Load Libaries\n",
    "import numpy as np\n",
    "import pandas as pd\n",
    "from sklearn.ensemble import RandomForestClassifier\n",
    "from sklearn.model_selection import (\n",
    "    train_test_split,\n",
    "    GridSearchCV,\n",
    "    RepeatedStratifiedKFold,\n",
    ")\n",
    "from sklearn import preprocessing, tree\n",
    "from imblearn.over_sampling import RandomOverSampler\n",
    "from sklearn.metrics import balanced_accuracy_score, confusion_matrix, f1_score\n",
    "import sklearn.metrics as ms\n",
    "import matplotlib.pyplot as plt\n",
    "from sklearn.preprocessing import LabelEncoder\n",
    "import seaborn as sns\n",
    "from sklearn.svm import SVC"
   ]
  },
  {
   "cell_type": "markdown",
   "metadata": {},
   "source": [
    "### Data Cleansing <a id='1'></a> \n",
    "In Data Cleansing the data is checked for duplicates and missing values."
   ]
  },
  {
   "cell_type": "code",
   "execution_count": 7,
   "metadata": {},
   "outputs": [
    {
     "data": {
      "text/html": [
       "<div>\n",
       "<style scoped>\n",
       "    .dataframe tbody tr th:only-of-type {\n",
       "        vertical-align: middle;\n",
       "    }\n",
       "\n",
       "    .dataframe tbody tr th {\n",
       "        vertical-align: top;\n",
       "    }\n",
       "\n",
       "    .dataframe thead th {\n",
       "        text-align: right;\n",
       "    }\n",
       "</style>\n",
       "<table border=\"1\" class=\"dataframe\">\n",
       "  <thead>\n",
       "    <tr style=\"text-align: right;\">\n",
       "      <th></th>\n",
       "      <th>age</th>\n",
       "      <th>job</th>\n",
       "      <th>marital</th>\n",
       "      <th>education</th>\n",
       "      <th>default</th>\n",
       "      <th>housing</th>\n",
       "      <th>loan</th>\n",
       "      <th>contact</th>\n",
       "      <th>month</th>\n",
       "      <th>day_of_week</th>\n",
       "      <th>...</th>\n",
       "      <th>campaign</th>\n",
       "      <th>pdays</th>\n",
       "      <th>previous</th>\n",
       "      <th>poutcome</th>\n",
       "      <th>emp.var.rate</th>\n",
       "      <th>cons.price.idx</th>\n",
       "      <th>cons.conf.idx</th>\n",
       "      <th>euribor3m</th>\n",
       "      <th>nr.employed</th>\n",
       "      <th>y</th>\n",
       "    </tr>\n",
       "  </thead>\n",
       "  <tbody>\n",
       "    <tr>\n",
       "      <th>0</th>\n",
       "      <td>30</td>\n",
       "      <td>blue-collar</td>\n",
       "      <td>married</td>\n",
       "      <td>basic.9y</td>\n",
       "      <td>no</td>\n",
       "      <td>yes</td>\n",
       "      <td>no</td>\n",
       "      <td>cellular</td>\n",
       "      <td>may</td>\n",
       "      <td>fri</td>\n",
       "      <td>...</td>\n",
       "      <td>2</td>\n",
       "      <td>999</td>\n",
       "      <td>0</td>\n",
       "      <td>nonexistent</td>\n",
       "      <td>-1.8</td>\n",
       "      <td>92.893</td>\n",
       "      <td>-46.2</td>\n",
       "      <td>1.313</td>\n",
       "      <td>5099.1</td>\n",
       "      <td>no</td>\n",
       "    </tr>\n",
       "    <tr>\n",
       "      <th>1</th>\n",
       "      <td>39</td>\n",
       "      <td>services</td>\n",
       "      <td>single</td>\n",
       "      <td>high.school</td>\n",
       "      <td>no</td>\n",
       "      <td>no</td>\n",
       "      <td>no</td>\n",
       "      <td>telephone</td>\n",
       "      <td>may</td>\n",
       "      <td>fri</td>\n",
       "      <td>...</td>\n",
       "      <td>4</td>\n",
       "      <td>999</td>\n",
       "      <td>0</td>\n",
       "      <td>nonexistent</td>\n",
       "      <td>1.1</td>\n",
       "      <td>93.994</td>\n",
       "      <td>-36.4</td>\n",
       "      <td>4.855</td>\n",
       "      <td>5191.0</td>\n",
       "      <td>no</td>\n",
       "    </tr>\n",
       "    <tr>\n",
       "      <th>2</th>\n",
       "      <td>25</td>\n",
       "      <td>services</td>\n",
       "      <td>married</td>\n",
       "      <td>high.school</td>\n",
       "      <td>no</td>\n",
       "      <td>yes</td>\n",
       "      <td>no</td>\n",
       "      <td>telephone</td>\n",
       "      <td>jun</td>\n",
       "      <td>wed</td>\n",
       "      <td>...</td>\n",
       "      <td>1</td>\n",
       "      <td>999</td>\n",
       "      <td>0</td>\n",
       "      <td>nonexistent</td>\n",
       "      <td>1.4</td>\n",
       "      <td>94.465</td>\n",
       "      <td>-41.8</td>\n",
       "      <td>4.962</td>\n",
       "      <td>5228.1</td>\n",
       "      <td>no</td>\n",
       "    </tr>\n",
       "    <tr>\n",
       "      <th>3</th>\n",
       "      <td>38</td>\n",
       "      <td>services</td>\n",
       "      <td>married</td>\n",
       "      <td>basic.9y</td>\n",
       "      <td>no</td>\n",
       "      <td>unknown</td>\n",
       "      <td>unknown</td>\n",
       "      <td>telephone</td>\n",
       "      <td>jun</td>\n",
       "      <td>fri</td>\n",
       "      <td>...</td>\n",
       "      <td>3</td>\n",
       "      <td>999</td>\n",
       "      <td>0</td>\n",
       "      <td>nonexistent</td>\n",
       "      <td>1.4</td>\n",
       "      <td>94.465</td>\n",
       "      <td>-41.8</td>\n",
       "      <td>4.959</td>\n",
       "      <td>5228.1</td>\n",
       "      <td>no</td>\n",
       "    </tr>\n",
       "    <tr>\n",
       "      <th>4</th>\n",
       "      <td>47</td>\n",
       "      <td>admin.</td>\n",
       "      <td>married</td>\n",
       "      <td>university.degree</td>\n",
       "      <td>no</td>\n",
       "      <td>yes</td>\n",
       "      <td>no</td>\n",
       "      <td>cellular</td>\n",
       "      <td>nov</td>\n",
       "      <td>mon</td>\n",
       "      <td>...</td>\n",
       "      <td>1</td>\n",
       "      <td>999</td>\n",
       "      <td>0</td>\n",
       "      <td>nonexistent</td>\n",
       "      <td>-0.1</td>\n",
       "      <td>93.200</td>\n",
       "      <td>-42.0</td>\n",
       "      <td>4.191</td>\n",
       "      <td>5195.8</td>\n",
       "      <td>no</td>\n",
       "    </tr>\n",
       "  </tbody>\n",
       "</table>\n",
       "<p>5 rows × 21 columns</p>\n",
       "</div>"
      ],
      "text/plain": [
       "   age          job  marital          education default  housing     loan  \\\n",
       "0   30  blue-collar  married           basic.9y      no      yes       no   \n",
       "1   39     services   single        high.school      no       no       no   \n",
       "2   25     services  married        high.school      no      yes       no   \n",
       "3   38     services  married           basic.9y      no  unknown  unknown   \n",
       "4   47       admin.  married  university.degree      no      yes       no   \n",
       "\n",
       "     contact month day_of_week  ...  campaign  pdays  previous     poutcome  \\\n",
       "0   cellular   may         fri  ...         2    999         0  nonexistent   \n",
       "1  telephone   may         fri  ...         4    999         0  nonexistent   \n",
       "2  telephone   jun         wed  ...         1    999         0  nonexistent   \n",
       "3  telephone   jun         fri  ...         3    999         0  nonexistent   \n",
       "4   cellular   nov         mon  ...         1    999         0  nonexistent   \n",
       "\n",
       "  emp.var.rate  cons.price.idx  cons.conf.idx  euribor3m  nr.employed   y  \n",
       "0         -1.8          92.893          -46.2      1.313       5099.1  no  \n",
       "1          1.1          93.994          -36.4      4.855       5191.0  no  \n",
       "2          1.4          94.465          -41.8      4.962       5228.1  no  \n",
       "3          1.4          94.465          -41.8      4.959       5228.1  no  \n",
       "4         -0.1          93.200          -42.0      4.191       5195.8  no  \n",
       "\n",
       "[5 rows x 21 columns]"
      ]
     },
     "execution_count": 7,
     "metadata": {},
     "output_type": "execute_result"
    }
   ],
   "source": [
    "# Load Data\n",
    "df = pd.read_csv(\"bank-additional.csv\", sep=\";\")\n",
    "df.head()"
   ]
  },
  {
   "cell_type": "markdown",
   "metadata": {},
   "source": [
    "The first step in Data Cleaning is checking if the data set contains duplicated rows. No duplicates can be found. We also obtain information about the size of the data. The data represent 4119 rows representing 4119 client records and 21 columns describing the client records."
   ]
  },
  {
   "cell_type": "code",
   "execution_count": 8,
   "metadata": {},
   "outputs": [
    {
     "name": "stdout",
     "output_type": "stream",
     "text": [
      "The dataset contains 0 fully duplicatated rows.\n"
     ]
    },
    {
     "data": {
      "text/plain": [
       "(4119, 21)"
      ]
     },
     "execution_count": 8,
     "metadata": {},
     "output_type": "execute_result"
    }
   ],
   "source": [
    "# Check duplicates\n",
    "duplicated_rows = df[df.duplicated()]\n",
    "print(\"The dataset contains \" + str(duplicated_rows.shape[0]) + \" fully duplicatated rows.\")\n",
    "df = df.drop_duplicates()\n",
    "df.shape"
   ]
  },
  {
   "cell_type": "markdown",
   "metadata": {},
   "source": [
    "The next step in data cleaning is to analyse whether there is missing data in the columns. The result of the analysis is that the dataset has no missing data."
   ]
  },
  {
   "cell_type": "code",
   "execution_count": 9,
   "metadata": {},
   "outputs": [
    {
     "data": {
      "text/plain": [
       "age               0.0\n",
       "job               0.0\n",
       "marital           0.0\n",
       "education         0.0\n",
       "default           0.0\n",
       "housing           0.0\n",
       "loan              0.0\n",
       "contact           0.0\n",
       "month             0.0\n",
       "day_of_week       0.0\n",
       "duration          0.0\n",
       "campaign          0.0\n",
       "pdays             0.0\n",
       "previous          0.0\n",
       "poutcome          0.0\n",
       "emp.var.rate      0.0\n",
       "cons.price.idx    0.0\n",
       "cons.conf.idx     0.0\n",
       "euribor3m         0.0\n",
       "nr.employed       0.0\n",
       "y                 0.0\n",
       "dtype: float64"
      ]
     },
     "execution_count": 9,
     "metadata": {},
     "output_type": "execute_result"
    }
   ],
   "source": [
    "df_null = round(100 * (df.isnull().sum()) / len(df), 2)\n",
    "df_null"
   ]
  },
  {
   "cell_type": "markdown",
   "metadata": {},
   "source": [
    "The data set contains 21 features. The features are numerical (10) and categorical (11). Every row represents a customer which was called by an agent from the bank. "
   ]
  },
  {
   "cell_type": "code",
   "execution_count": 10,
   "metadata": {},
   "outputs": [
    {
     "data": {
      "text/html": [
       "<div>\n",
       "<style scoped>\n",
       "    .dataframe tbody tr th:only-of-type {\n",
       "        vertical-align: middle;\n",
       "    }\n",
       "\n",
       "    .dataframe tbody tr th {\n",
       "        vertical-align: top;\n",
       "    }\n",
       "\n",
       "    .dataframe thead th {\n",
       "        text-align: right;\n",
       "    }\n",
       "</style>\n",
       "<table border=\"1\" class=\"dataframe\">\n",
       "  <thead>\n",
       "    <tr style=\"text-align: right;\">\n",
       "      <th></th>\n",
       "      <th>age</th>\n",
       "      <th>job</th>\n",
       "      <th>marital</th>\n",
       "      <th>education</th>\n",
       "      <th>default</th>\n",
       "      <th>housing</th>\n",
       "      <th>loan</th>\n",
       "      <th>contact</th>\n",
       "      <th>month</th>\n",
       "      <th>day_of_week</th>\n",
       "      <th>...</th>\n",
       "      <th>campaign</th>\n",
       "      <th>pdays</th>\n",
       "      <th>previous</th>\n",
       "      <th>poutcome</th>\n",
       "      <th>emp.var.rate</th>\n",
       "      <th>cons.price.idx</th>\n",
       "      <th>cons.conf.idx</th>\n",
       "      <th>euribor3m</th>\n",
       "      <th>nr.employed</th>\n",
       "      <th>y</th>\n",
       "    </tr>\n",
       "  </thead>\n",
       "  <tbody>\n",
       "    <tr>\n",
       "      <th>count</th>\n",
       "      <td>4119</td>\n",
       "      <td>4119</td>\n",
       "      <td>4119</td>\n",
       "      <td>4119</td>\n",
       "      <td>4119</td>\n",
       "      <td>4119</td>\n",
       "      <td>4119</td>\n",
       "      <td>4119</td>\n",
       "      <td>4119</td>\n",
       "      <td>4119</td>\n",
       "      <td>...</td>\n",
       "      <td>4119</td>\n",
       "      <td>4119</td>\n",
       "      <td>4119</td>\n",
       "      <td>4119</td>\n",
       "      <td>4119.0</td>\n",
       "      <td>4119.000</td>\n",
       "      <td>4119.0</td>\n",
       "      <td>4119.000</td>\n",
       "      <td>4119.0</td>\n",
       "      <td>4119</td>\n",
       "    </tr>\n",
       "    <tr>\n",
       "      <th>unique</th>\n",
       "      <td>67</td>\n",
       "      <td>12</td>\n",
       "      <td>4</td>\n",
       "      <td>8</td>\n",
       "      <td>3</td>\n",
       "      <td>3</td>\n",
       "      <td>3</td>\n",
       "      <td>2</td>\n",
       "      <td>10</td>\n",
       "      <td>5</td>\n",
       "      <td>...</td>\n",
       "      <td>25</td>\n",
       "      <td>21</td>\n",
       "      <td>7</td>\n",
       "      <td>3</td>\n",
       "      <td>10.0</td>\n",
       "      <td>26.000</td>\n",
       "      <td>26.0</td>\n",
       "      <td>234.000</td>\n",
       "      <td>11.0</td>\n",
       "      <td>2</td>\n",
       "    </tr>\n",
       "    <tr>\n",
       "      <th>top</th>\n",
       "      <td>32</td>\n",
       "      <td>admin.</td>\n",
       "      <td>married</td>\n",
       "      <td>university.degree</td>\n",
       "      <td>no</td>\n",
       "      <td>yes</td>\n",
       "      <td>no</td>\n",
       "      <td>cellular</td>\n",
       "      <td>may</td>\n",
       "      <td>thu</td>\n",
       "      <td>...</td>\n",
       "      <td>1</td>\n",
       "      <td>999</td>\n",
       "      <td>0</td>\n",
       "      <td>nonexistent</td>\n",
       "      <td>1.4</td>\n",
       "      <td>93.994</td>\n",
       "      <td>-36.4</td>\n",
       "      <td>4.857</td>\n",
       "      <td>5228.1</td>\n",
       "      <td>no</td>\n",
       "    </tr>\n",
       "    <tr>\n",
       "      <th>freq</th>\n",
       "      <td>216</td>\n",
       "      <td>1012</td>\n",
       "      <td>2509</td>\n",
       "      <td>1264</td>\n",
       "      <td>3315</td>\n",
       "      <td>2175</td>\n",
       "      <td>3349</td>\n",
       "      <td>2652</td>\n",
       "      <td>1378</td>\n",
       "      <td>860</td>\n",
       "      <td>...</td>\n",
       "      <td>1764</td>\n",
       "      <td>3959</td>\n",
       "      <td>3523</td>\n",
       "      <td>3523</td>\n",
       "      <td>1626.0</td>\n",
       "      <td>758.000</td>\n",
       "      <td>758.0</td>\n",
       "      <td>274.000</td>\n",
       "      <td>1626.0</td>\n",
       "      <td>3668</td>\n",
       "    </tr>\n",
       "  </tbody>\n",
       "</table>\n",
       "<p>4 rows × 21 columns</p>\n",
       "</div>"
      ],
      "text/plain": [
       "         age     job  marital          education default housing  loan  \\\n",
       "count   4119    4119     4119               4119    4119    4119  4119   \n",
       "unique    67      12        4                  8       3       3     3   \n",
       "top       32  admin.  married  university.degree      no     yes    no   \n",
       "freq     216    1012     2509               1264    3315    2175  3349   \n",
       "\n",
       "         contact month day_of_week  ...  campaign  pdays  previous  \\\n",
       "count       4119  4119        4119  ...      4119   4119      4119   \n",
       "unique         2    10           5  ...        25     21         7   \n",
       "top     cellular   may         thu  ...         1    999         0   \n",
       "freq        2652  1378         860  ...      1764   3959      3523   \n",
       "\n",
       "           poutcome emp.var.rate  cons.price.idx  cons.conf.idx  euribor3m  \\\n",
       "count          4119       4119.0        4119.000         4119.0   4119.000   \n",
       "unique            3         10.0          26.000           26.0    234.000   \n",
       "top     nonexistent          1.4          93.994          -36.4      4.857   \n",
       "freq           3523       1626.0         758.000          758.0    274.000   \n",
       "\n",
       "        nr.employed     y  \n",
       "count        4119.0  4119  \n",
       "unique         11.0     2  \n",
       "top          5228.1    no  \n",
       "freq         1626.0  3668  \n",
       "\n",
       "[4 rows x 21 columns]"
      ]
     },
     "execution_count": 10,
     "metadata": {},
     "output_type": "execute_result"
    }
   ],
   "source": [
    "df.astype(\"object\").describe()"
   ]
  },
  {
   "cell_type": "markdown",
   "metadata": {},
   "source": [
    "### Data Exploration <a id='2'></a> \n",
    "\n",
    "The data exploration is intended to gain more domain insight into the available bank data. First, the distribution of the data is investigated, then the numerical features are examined and various plots are created that show insights about the bank's customers."
   ]
  },
  {
   "cell_type": "markdown",
   "metadata": {},
   "source": [
    "The feature y shows whether a contract has been concluded after a conversation with the bank employee. A successful contract was concluded for 11.27% and the remaining 88.73% did not conclude a contract. The distribution of the data shows that only a small number of customers concluded the contract. For the later creation of the machine learning model, we must ensure that the same distribution of training examples and test data is maintained. The methods of implementation are shown in the Data Preparation chapter."
   ]
  },
  {
   "cell_type": "code",
   "execution_count": 11,
   "metadata": {},
   "outputs": [
    {
     "name": "stdout",
     "output_type": "stream",
     "text": [
      "The dataset contains:4119 samples of phone calls with customers. The subcription of term negative is 89.05% and the subcription of term positive is 10.95%.\n",
      "no     3668\n",
      "yes     451\n",
      "Name: y, dtype: int64\n"
     ]
    }
   ],
   "source": [
    "distribution = df[\"y\"].value_counts()\n",
    "print(\n",
    "    \"The dataset contains:\"\n",
    "    + str(df.shape[0])\n",
    "    + \" samples of phone calls with customers. The subcription of term negative is \"\n",
    "    + str(round(distribution[0] / df.shape[0] * 100, 2))\n",
    "    + \"% and the subcription of term positive is \"\n",
    "    + str(round(distribution[1] / df.shape[0] * 100, 2))\n",
    "    + \"%.\"\n",
    ")\n",
    "print(distribution)"
   ]
  },
  {
   "cell_type": "markdown",
   "metadata": {},
   "source": [
    "The figure 1 shows the distribution of all numerical features. It can be seen that the column age, duration, campaign, pdays and previous got outliers. The feature age will later discussed in the next plot. The feature duration will later be dropped because the influence of this feature is high to the result, also the information about the duration is not known before the call. The feature campaign will be discussed later in the plot Relationship between marketing campaigns and subscribing of contracts. The features shows that the median is around 1000 that means that the most clients has the same value. This feature will further inspected. The last feature with outliers is the feature previous. This feature  previous decribed how many times a client is called before the campaign. This information gains that max nr of 6 is a reasonale numer of previous calls. There is no need to delete outliers."
   ]
  },
  {
   "cell_type": "code",
   "execution_count": 12,
   "metadata": {},
   "outputs": [
    {
     "data": {
      "image/png": "[encoded data removed]",
      "text/plain": [
       "<Figure size 432x288 with 10 Axes>"
      ]
     },
     "metadata": {
      "needs_background": "light"
     },
     "output_type": "display_data"
    }
   ],
   "source": [
    "numerical_features = df.select_dtypes([\"int64\", \"float64\"])\n",
    "numerical_features\n",
    "inputs = list(numerical_features.columns)  # convert the column names to a list\n",
    "# Determine the number of logging curves\n",
    "num_inputs = len(inputs)\n",
    "# Create a figure with 1 row, and num_inputs long\n",
    "fig, axs = plt.subplots(1, num_inputs)\n",
    "plt.subplots_adjust(left=None, bottom=None, right=2.5, top=1.5, wspace=0.7, hspace=None)\n",
    "fig.suptitle(\n",
    "    \"Fig. 1 Boxplots for numerical features\",\n",
    "    horizontalalignment=\"center\",\n",
    "    y=fig.subplotpars.right - 0.8,\n",
    "    fontsize=18,\n",
    ")\n",
    "# Use a for loop to loop over each column in the dataframe and\n",
    "# create a separate box plot\n",
    "for i, (ax, curve) in enumerate(zip(axs.flat, inputs)):\n",
    "    sns.boxplot(y=numerical_features[curve], ax=ax, color=\"green\", showmeans=False)\n",
    "    ax.set_title(inputs[i])\n",
    "    ax.set_ylabel(\"\")\n",
    "\n",
    "plt.subplots_adjust(hspace=0.15, wspace=1.25)\n",
    "plt.show()"
   ]
  },
  {
   "cell_type": "markdown",
   "metadata": {},
   "source": [
    "From the information on the dataset, we learned that the feature pdays describes the number of days the customer was contacted after the campaign. The owner of the dataset also mentioned that the value represents 999 customers who were not contacted after the marketing campaign."
   ]
  },
  {
   "cell_type": "code",
   "execution_count": 13,
   "metadata": {},
   "outputs": [
    {
     "name": "stdout",
     "output_type": "stream",
     "text": [
      "After the marketing campaign 3959 clients were not contacted. That are 96.12 % of the clients.\n"
     ]
    }
   ],
   "source": [
    "df[df[\"pdays\"] == 999].shape[0]\n",
    "print(\n",
    "    \"After the marketing campaign \"\n",
    "    + str(df[df[\"pdays\"] == 999].shape[0])\n",
    "    + \" clients were not contacted. That are \"\n",
    "    + str(round(df[df[\"pdays\"] == 999].shape[0] / df.shape[0] * 100, 2))\n",
    "    + \" % of the clients.\"\n",
    ")"
   ]
  },
  {
   "cell_type": "markdown",
   "metadata": {},
   "source": [
    "#### Relationship between age and subscribing of contracts<a id='20'></a> \n",
    "For data analysis, the feature age in relation to contract conclusion is to be examined.  In order to present the data in a more meaningful way, I have sorted the data into age groups. Since there is not as much data for customers over 60 years of age, these customers were sorted into one group. <br>\n",
    "In Figure 2, the first subplot examines the age structure and the second subplot the age groups with regard to the conclusion of a contract. It can be seen that the majority of customers are in the age group 30-39 , followed by the age group 40-49 and 50-59. The smallest number of customers are in the age group 60+ and 18-19. <br>\n",
    "The second subplot shows that the rate of contract conclusion is approximately the same for almost all age groups. The exception is the 60+ age group, which clearly stands out with a contract conclusion rate of over 35%. This high rate may also be due to the fact that the number of customers is significantly lower than in the other age groups."
   ]
  },
  {
   "cell_type": "code",
   "execution_count": 14,
   "metadata": {},
   "outputs": [
    {
     "data": {
      "image/png": "[encoded data removed]",
      "text/plain": [
       "<Figure size 432x288 with 2 Axes>"
      ]
     },
     "metadata": {
      "needs_background": "light"
     },
     "output_type": "display_data"
    }
   ],
   "source": [
    "relation_age = pd.DataFrame(df[[\"age\", \"y\"]])\n",
    "bins = [18, 29, 39, 49, 59, 120]\n",
    "labels = [\"18-29\", \"30-39\", \"40-49\", \"50-59\", \"60+\"]\n",
    "relation_age[\"agerange\"] = pd.cut(df.age, bins, labels=labels, include_lowest=False)\n",
    "relation_age = (\n",
    "    relation_age.groupby(\"agerange\", as_index=False)\n",
    "    .agg(Age_percentage=(\"agerange\", \"count\"))\n",
    "    .sort_values(by=\"Age_percentage\", ascending=False)\n",
    ")\n",
    "# Figure Size\n",
    "fig, ax = plt.subplots(1, 2)\n",
    "plt.subplots_adjust(left=None, bottom=None, right=1.8, top=1.5, wspace=0.5, hspace=None)\n",
    "fig.suptitle(\n",
    "    \"Fig. 2 Relationship between age and subscribing of contracts\",\n",
    "    horizontalalignment=\"left\",\n",
    "    y=fig.subplotpars.right - 00.1,\n",
    "    fontsize=18,\n",
    ")\n",
    "ax[0].pie(\n",
    "    relation_age[\"Age_percentage\"],\n",
    "    labels=relation_age[\"agerange\"],\n",
    "    autopct=\"%1.1f%%\",\n",
    "    pctdistance=0.6,\n",
    "    shadow=True,\n",
    "    startangle=90,\n",
    ")\n",
    "ax[0].set_title(\"Age structure of clients\")\n",
    "# second\n",
    "relation_age = pd.DataFrame(df[[\"age\", \"y\"]])\n",
    "relation_age[\"agerange\"] = pd.cut(df.age, bins, labels=labels, include_lowest=False)\n",
    "relation_age = (\n",
    "    relation_age.groupby([\"agerange\", \"y\"], as_index=False)\n",
    "    .agg(Age_count_y=(\"agerange\", \"count\"))\n",
    "    .sort_values(by=[\"agerange\", \"y\"], ascending=True)\n",
    ")\n",
    "relation_age = pd.get_dummies(relation_age, columns=[\"y\"])\n",
    "relation_age[\"subcribed_counts\"] = relation_age[\"Age_count_y\"].shift(-1)\n",
    "relation_age = relation_age[:-1]\n",
    "relation_age = relation_age.iloc[::2]\n",
    "relation_age[\"subscribe_positive_in_percantage\"] = relation_age.apply(\n",
    "    lambda x: x[\"subcribed_counts\"] / (x[\"Age_count_y\"] + x[\"subcribed_counts\"]) * 100,\n",
    "    axis=1,\n",
    ")\n",
    "ax[1].bar(\n",
    "    relation_age[\"agerange\"],\n",
    "    relation_age[\"subscribe_positive_in_percantage\"],\n",
    "    color=\"r\",\n",
    ")\n",
    "# Bar Plot\n",
    "ax[1].set_ylabel(\"successful contract conclusion in %\")\n",
    "ax[1].set_xlabel(\"age structure\")\n",
    "ax[1].set_title(\"Ratio of subscribed a term deposit for age groups\")\n",
    "# Show Plot\n",
    "plt.show()"
   ]
  },
  {
   "cell_type": "markdown",
   "metadata": {},
   "source": [
    "#### Relationship between job and subscribing of contracts<a id='21'></a> \n",
    "The next analysis will look at the relationship of jobs in relation to contract completions. <br>\n",
    "Figure 3 shows in the two subplots the different jobs of the customers and the conclusion of contracts in relation to the job. From the first subplot, it can be seen that the bank divides the clients into 12 job categories. The categories do not necessarily have to represent an occupation - see retired, unknown or student. Furthermore, it is clear that the majority of customers are admin, blue-collar or technician. <br>\n",
    "In the second subplot, it becomes clear that the job categories student and retired stand out in terms of contract conclusions. This may be due to the fact that very little data exists on these types. However, it is also evident that the job types admin and technician also have high completion rates and there is lot of data is available on these job types."
   ]
  },
  {
   "cell_type": "code",
   "execution_count": 15,
   "metadata": {},
   "outputs": [
    {
     "data": {
      "image/png": "[encoded data removed]",
      "text/plain": [
       "<Figure size 432x288 with 2 Axes>"
      ]
     },
     "metadata": {
      "needs_background": "light"
     },
     "output_type": "display_data"
    }
   ],
   "source": [
    "relation_job = pd.DataFrame()\n",
    "relation_job = (\n",
    "    df.groupby(\"job\", as_index=False)\n",
    "    .agg(Job_count=(\"default\", \"count\"))\n",
    "    .sort_values(by=\"Job_count\", ascending=False)\n",
    ")\n",
    "relation_job[\"Percentage\"] = 100 * relation_job[\"Job_count\"] / df.shape[0]\n",
    "# Figure Size\n",
    "fig, ax = plt.subplots(1, 2)\n",
    "plt.subplots_adjust(left=None, bottom=None, right=1.8, top=1.5, wspace=0.5, hspace=None)\n",
    "fig.suptitle(\n",
    "    \"Fig. 3 Relationship between job and subscribing of contracts\",\n",
    "    horizontalalignment=\"left\",\n",
    "    y=fig.subplotpars.right - 00.1,\n",
    "    fontsize=18,\n",
    ")\n",
    "# Horizontal Bar Plot\n",
    "ax[0].barh(relation_job[\"job\"], relation_job[\"Percentage\"], color=\"r\")\n",
    "ax[0].set_ylabel(\"job type\")\n",
    "ax[0].set_xlabel(\"in %\")\n",
    "ax[0].set_title(\"job structure of clients\")\n",
    "# second\n",
    "relation_job = pd.DataFrame()\n",
    "relation_job = (\n",
    "    df.groupby([\"job\", \"y\"], as_index=False)\n",
    "    .agg(job_count_y=(\"job\", \"count\"))\n",
    "    .sort_values(by=[\"job\", \"y\"], ascending=True)\n",
    ")\n",
    "relation_job = pd.get_dummies(relation_job, columns=[\"y\"])\n",
    "relation_job[\"subcribed_counts\"] = relation_job[\"job_count_y\"].shift(-1)\n",
    "relation_job = relation_job[:-1]\n",
    "relation_job = relation_job.iloc[::2]\n",
    "relation_job[\"subscribe_positive_in_percantage\"] = relation_job.apply(\n",
    "    lambda x: x[\"subcribed_counts\"] / (x[\"job_count_y\"] + x[\"subcribed_counts\"]) * 100,\n",
    "    axis=1,\n",
    ")\n",
    "relation_job = relation_job.sort_values(by=\"subscribe_positive_in_percantage\", ascending=False)\n",
    "ax[1].barh(relation_job[\"job\"], relation_job[\"subscribe_positive_in_percantage\"], color=\"r\")\n",
    "# Horizontal Bar Plot\n",
    "ax[1].set_ylabel(\"job type\")\n",
    "ax[1].set_xlabel(\"successful contract conclusion in %\")\n",
    "ax[1].set_title(\"Ratio of subscribed a term deposit for job typs\")\n",
    "# Show Plot\n",
    "plt.show()"
   ]
  },
  {
   "cell_type": "markdown",
   "metadata": {},
   "source": [
    "#### Relationship between marketing campaigns and subscribing of contracts<a id='22'></a> \n",
    "As a final analysis, I would like to look at the number of calls in the marketing campaigns versus the number of contracts signed.  <br>\n",
    "In Figure 4, the number of calls per marketing campaign is related to the number of contracts signed. In the first subplot, the number of calls in the marketing campaign is examined. This shows that most of the bank's customers are called 1-3 times in a marketing campaign. However, a few customers were also contacted significantly more often. These are summarised under Miscellaneous.  <br>\n",
    "The second plot contrasts the number of calls with the number of contracts signed. In general, a similar completion rate can be observed for the number of calls 1-4. In addition, a drop in completion rates can then be seen up to call number 11. For higher numbers of calls, a very high success rate of contracts can be seen. These results can be seen as exceptions, as there is very little data for these call numbers. As a conclusion, it can be seen that the success rate of 12% of contract conclusions is applicable for 88% of the customers."
   ]
  },
  {
   "cell_type": "code",
   "execution_count": 16,
   "metadata": {},
   "outputs": [
    {
     "data": {
      "image/png": "[encoded data removed]",
      "text/plain": [
       "<Figure size 432x288 with 2 Axes>"
      ]
     },
     "metadata": {
      "needs_background": "light"
     },
     "output_type": "display_data"
    }
   ],
   "source": [
    "relation_campaign = pd.DataFrame()\n",
    "relation_campaign = (\n",
    "    df.groupby(\"campaign\", as_index=False)\n",
    "    .agg(campaign_count=(\"default\", \"count\"))\n",
    "    .sort_values(by=\"campaign_count\", ascending=False)\n",
    ")\n",
    "relation_campaign[\"Percentage\"] = 100 * relation_campaign[\"campaign_count\"] / df.shape[0]\n",
    "percentage = relation_campaign[relation_campaign.Percentage < 2].sum()\n",
    "mask = relation_campaign.Percentage > 2\n",
    "relation_campaign = relation_campaign[mask]\n",
    "relation_campaign = relation_campaign.append(\n",
    "    pd.DataFrame({\"campaign\": [\"Miscellaneous\"], \"Percentage\": [percentage[\"Percentage\"]]})\n",
    ")\n",
    "# Figure Size\n",
    "fig, ax = plt.subplots(1, 2)\n",
    "plt.subplots_adjust(left=None, bottom=None, right=1.8, top=1.5, wspace=0.5, hspace=None)\n",
    "fig.suptitle(\n",
    "    \"Fig. 4 Relationship between calls in a marketing campaign and subscribing of contracts\",\n",
    "    horizontalalignment=\"center\",\n",
    "    y=fig.subplotpars.right - 00.1,\n",
    "    fontsize=18,\n",
    ")\n",
    "# Horizontal Bar Plot\n",
    "ax[0].pie(\n",
    "    relation_campaign[\"Percentage\"],\n",
    "    labels=relation_campaign[\"campaign\"],\n",
    "    autopct=\"%1.1f%%\",\n",
    "    pctdistance=0.9,\n",
    "    shadow=True,\n",
    "    startangle=90,\n",
    ")\n",
    "ax[0].set_title(\"Ratio of calls in a marketing campaign\")\n",
    "# second\n",
    "relation_campaign = df[df[\"campaign\"] <= 30]\n",
    "relation_campaign = (\n",
    "    relation_campaign.groupby([\"campaign\", \"y\"], as_index=False)\n",
    "    .agg(campaign_count_y=(\"campaign\", \"count\"))\n",
    "    .sort_values(by=[\"campaign\", \"y\"], ascending=True)\n",
    ")\n",
    "relation_campaign = pd.get_dummies(relation_campaign, columns=[\"y\"])\n",
    "relation_campaign[\"subcribed_counts\"] = relation_campaign[\"campaign_count_y\"].shift(-1)\n",
    "relation_campaign = relation_campaign[:-1]\n",
    "relation_campaign = relation_campaign.iloc[::2]\n",
    "relation_campaign[\"subscribe_positive_in_percantage\"] = relation_campaign.apply(\n",
    "    lambda x: x[\"subcribed_counts\"] / (x[\"campaign_count_y\"] + x[\"subcribed_counts\"]) * 100,\n",
    "    axis=1,\n",
    ")\n",
    "relation_campaign = relation_campaign.sort_values(\n",
    "    by=\"subscribe_positive_in_percantage\", ascending=False\n",
    ")\n",
    "ax[1].barh(\n",
    "    relation_campaign[\"campaign\"],\n",
    "    relation_campaign[\"subscribe_positive_in_percantage\"],\n",
    "    color=\"r\",\n",
    ")\n",
    "# Horizontal Bar Plot\n",
    "ax[1].set_ylabel(\"number of calls\")\n",
    "ax[1].set_xlabel(\"successful contract conclusion in %\")\n",
    "ax[1].set_title(\"Ratio of subscribed a term deposit for number of marketing calls\")\n",
    "# Show Plot\n",
    "plt.show()"
   ]
  },
  {
   "cell_type": "markdown",
   "metadata": {},
   "source": [
    "### Data Preparation <a id='3'></a> \n",
    "\n",
    "The owner of the dataset provides the information that the feature duration has high impact of the prediction and is not known before the call. Therefore this feature will not be used in ML modells. "
   ]
  },
  {
   "cell_type": "code",
   "execution_count": 17,
   "metadata": {},
   "outputs": [
    {
     "name": "stderr",
     "output_type": "stream",
     "text": [
      "C:\\Users\\wuest\\AppData\\Local\\Temp/ipykernel_13820/2800050893.py:2: FutureWarning: In a future version of pandas all arguments of DataFrame.drop except for the argument 'labels' will be keyword-only\n",
      "  df = df.drop(\"duration\", 1)\n"
     ]
    }
   ],
   "source": [
    "# Drop feature Duration\n",
    "df = df.drop(\"duration\", 1)"
   ]
  },
  {
   "cell_type": "markdown",
   "metadata": {},
   "source": [
    "The next step in the Data Preparation is the Machine Learning setup. There I define the target value as y and as X value the rest of data. For the conversion of categorical features into numerical features I use the dummy method. The categorical features are converted into indicator columns (columns of 0s and 1s). This step is necessary because the ML models used to have numerical features. For the conversion of the y feature I used the label encoder, because no new indicator columns are created, but the variable is converted from True to 1 and from False to 0. For the training of the machine learning model, the data is divided into test and training data. I choose 30% of the data set for the test size. Since this is an unbalanced dataset, it is important to specify stratify for y. Stratify ensures that the same ratio of positive and negative contract completions is reflected in the training and test data. I will shuffle the data, as to not preserve any ordering in the data that might be in the data. From the data analysis we learned that the features differ in terms of scale and units. To make the features more comparable, I used the standard scaler.\n"
   ]
  },
  {
   "cell_type": "code",
   "execution_count": 18,
   "metadata": {},
   "outputs": [],
   "source": [
    "def ml_setup(df):\n",
    "    # Encode feature y in numeric feature\n",
    "    lb_make = LabelEncoder()\n",
    "    df[\"y\"] = lb_make.fit_transform(df[\"y\"])\n",
    "    # set traget variable\n",
    "    y = df[\"y\"]\n",
    "    # Delete target feature from dataframe\n",
    "    df1 = df.iloc[:, :-1]\n",
    "    # Encode categorical feature via dummy encoding into numeric feature\n",
    "    X = pd.get_dummies(\n",
    "        df1,\n",
    "        columns=[\n",
    "            \"job\",\n",
    "            \"marital\",\n",
    "            \"education\",\n",
    "            \"default\",\n",
    "            \"housing\",\n",
    "            \"loan\",\n",
    "            \"contact\",\n",
    "            \"month\",\n",
    "            \"day_of_week\",\n",
    "            \"poutcome\",\n",
    "        ],\n",
    "    )\n",
    "    X_train, X_test, y_train, y_test = train_test_split(\n",
    "        X, y, test_size=0.30, random_state=42, stratify=y, shuffle=True\n",
    "    )\n",
    "    scaler1 = preprocessing.StandardScaler().fit(X_train)\n",
    "    X_train_sc = scaler1.transform(X_train)\n",
    "    X_test_sc = scaler1.transform(X_test)\n",
    "    return X_train_sc, y_train, X_test_sc, y_test"
   ]
  },
  {
   "cell_type": "markdown",
   "metadata": {},
   "source": [
    "### Classification <a id='4'></a> \n",
    "In the chapter Classification, different methods are compared on the basis of metrics. Each experiment follows the same structure. The first step is hyperparameter optimisation using cross validation. The optimal hyperparameters are then used to train the machine learning models. The last step of the experiment is to test the machine learning model using test data. The result obtained is then presented in a confusion matrix, which shows how good the prediction of the model was. In order to compare the different machine learning models, the results are stored in an evaluation dataframe. The evaluation of the models takes place in the chapter Results. <br>\n",
    "In addition, all the necessary functions for the machine learning models are created in this chapter. This should lead to better clarity in the experiments. <br>\n",
    "In the following, the machine learning models Decision Tree, Random Forest and Support Vector Machines are used for classification with the aim of predicting whether the customer will conclude a contract with the bank. <br>\n",
    "In the data analysis, it was found that the data are unbalanced data sets. Therefore, we will briefly define which metrics are useful to make the machine learning models comparable and to be able to assess whether the results are really good or not."
   ]
  },
  {
   "cell_type": "markdown",
   "metadata": {},
   "source": [
    "In order to better explain the metrics, individual terms must first be explained. These include the terms Confusion Matrix, True Positive (TP), False Positive (FP), True Negative (TN) and False Negative (FN).  <br>\n",
    "A confusion matrix is a summary of prediction results on a classification problem. <br>\n",
    "Using the confusion matrix in figure 5 as an example, I would like to explain the terms TP, FP, TN and FN. <br>\n",
    "<br>\n",
    "*   TP: prediction is positive and the result is positiv (in the figure it's 4) <br>\n",
    "*   FP: prediction is postive and the result is negativ (in the fiugre it's 2) <br>\n",
    "*   TN: prediction is negtaiv and the result is negativ (in the fiugre it's 1) <br>\n",
    "*   FN: prediction is negativ and the result is positiv (in the figure it's 3) <br>\n",
    "<br>\n",
    "In this dataset the terms would mean:\n",
    "*   TP: prediction is the subcription of the term deposit and the result is a subcription <br>\n",
    "*   FP: prediction is the subcription of the term deposit and the result is no subcription <br>\n",
    "*   TN: prediction is no subcription of the term deposit and the result is a subcription <br>\n",
    "*   FN: prediction is no subcription of the term deposit and the result is no subcription\n"
   ]
  },
  {
   "cell_type": "code",
   "execution_count": 19,
   "metadata": {},
   "outputs": [
    {
     "data": {
      "text/plain": [
       "[Text(0, 0.5, 'Negative'), Text(0, 1.5, 'Positive')]"
      ]
     },
     "execution_count": 19,
     "metadata": {},
     "output_type": "execute_result"
    },
    {
     "data": {
      "image/png": "[encoded data removed]",
      "text/plain": [
       "<Figure size 432x288 with 2 Axes>"
      ]
     },
     "metadata": {
      "needs_background": "light"
     },
     "output_type": "display_data"
    }
   ],
   "source": [
    "bin_classes = [0, 0, 0, 1, 1, 1, 1, 1, 1, 1]\n",
    "bin_predictions = [0, 1, 1, 1, 1, 1, 1, 0, 0, 0]\n",
    "plot_nr = 5\n",
    "ms.ConfusionMatrixDisplay.from_predictions(bin_classes, bin_predictions)\n",
    "ax = plt.subplot()\n",
    "sns.heatmap(\n",
    "    confusion_matrix(bin_classes, bin_predictions),\n",
    "    annot=True,\n",
    "    fmt=\"g\",\n",
    "    cmap=\"bwr\",\n",
    "    ax=ax,\n",
    "    linewidths=1,\n",
    ")\n",
    "# annot=True to annotate cells, ftm='g' to disable scientific notation\n",
    "# labels, title and ticks\n",
    "ax.set_xlabel(\"Predicted labels\")\n",
    "ax.set_ylabel(\"True labels\")\n",
    "ax.set_title(f\"Fig. {plot_nr} Example Confusion Matrix\")\n",
    "ax.xaxis.set_ticklabels([\"Negative\", \"Positiive\"])\n",
    "ax.yaxis.set_ticklabels([\"Negative\", \"Positive\"])"
   ]
  },
  {
   "cell_type": "markdown",
   "metadata": {},
   "source": [
    "All the formulae shown and discussed here refer only to a binary classifier. <br>\n",
    "From the data exploration we have learned that it is an inbalanced dataset. Therefore, the accuracy cannot be used because it does not take into account the distribution of the dataset.\n",
    "The aim of the model is to make the prediction of the subcription of term deposits for a call as accurate as possible. One approach to this is the balanced Accuracy metric, which includes Sensitivity and Specifity. Sensitivity, also called recall, measures the true positive rate. This means how many positive cases were correctly predicted. In contrast, specifity describes the true negative rate. In other words, how many negative cases were correctly predicted. <br>\n",
    "The second approach the is F1-score, which includes Precision and Recall. Precision defines how good the model predicts the true cases. Our later prediction should have a good precision and a good recall, therefore I used the harmonic mean - F1-score as metric.In my later ml models I want to use both metrics to train and evaluate the models."
   ]
  },
  {
   "cell_type": "markdown",
   "metadata": {},
   "source": [
    "\\begin{equation*}\n",
    "Accuracy = \\frac{TP+TN}{TP+TN+FP+FN}\n",
    "\\end{equation*}\n",
    "\\begin{equation*}\n",
    "Sensitivty = Recall =  \\frac{TP}{TP+FN}\n",
    "\\end{equation*}\n",
    "\\begin{equation*}\n",
    "Specificity = \\frac{TN}{TN+FP}\n",
    "\\end{equation*}\n",
    "\\begin{equation*}\n",
    "Balanced Accuracy= \\frac{Sensitivty+Specificity}{2}\n",
    "\\end{equation*}\n",
    "\\begin{equation*}\n",
    "Precision = \\frac{TP}{TP+FP}\n",
    "\\end{equation*}\n",
    "\\begin{equation*}\n",
    "F1 = \\frac{2*Precision*Recall}{Precision+Recall} = \\frac{2*TP}{2*TP+FP+FN}\n",
    "\\end{equation*}"
   ]
  },
  {
   "cell_type": "markdown",
   "metadata": {},
   "source": [
    "The `cross_validate_setting` function finds out the best hyperparameter for the choosen model."
   ]
  },
  {
   "cell_type": "code",
   "execution_count": 20,
   "metadata": {},
   "outputs": [],
   "source": [
    "def cross_validate_setting(X, y, model, params):\n",
    "    \"\"\"Form a cross validate setting.\n",
    "\n",
    "    Keywords arguments:\n",
    "    X       -- input data as dataframe\n",
    "    y       -- target as dataframe\n",
    "    model   -- classifier as estimator object\n",
    "    params  -- hyperparameter as dict\n",
    "    \"\"\"\n",
    "    cv = RepeatedStratifiedKFold(n_splits=10, n_repeats=10, random_state=1)\n",
    "    clf = GridSearchCV(model, params, scoring=\"balanced_accuracy\", cv=cv, n_jobs=-1)\n",
    "    search = clf.fit(X, y)\n",
    "    return search"
   ]
  },
  {
   "cell_type": "markdown",
   "metadata": {},
   "source": [
    "The `evaluation_df` Dataframe saves all results and is taken for comparison the ML Modells."
   ]
  },
  {
   "cell_type": "code",
   "execution_count": 21,
   "metadata": {},
   "outputs": [],
   "source": [
    "evaluation_df = pd.DataFrame(\n",
    "    {\n",
    "        \"algorithm\": [],\n",
    "        \"F1_score\": [],\n",
    "        \"balanced accuracy\": [],\n",
    "        \"confusion matrix\": [],\n",
    "        \"best hyperparameters\": [],\n",
    "    }\n",
    ")"
   ]
  },
  {
   "cell_type": "markdown",
   "metadata": {},
   "source": [
    "The function `calc_f1_score` calculates the F1-Score for a given ML modell."
   ]
  },
  {
   "cell_type": "code",
   "execution_count": 22,
   "metadata": {},
   "outputs": [],
   "source": [
    "def calc_f1_score(model, x_train, y_train, x_test, y_test):\n",
    "    \"\"\"calculate the accuracy of a model\n",
    "\n",
    "    Keywords arguments:\n",
    "    x_train -- train data as dataframe\n",
    "    y_train -- train target as dataframe\n",
    "    x_test  -- test data as dataframe\n",
    "    y_test  -- test target as dataframe\n",
    "    model   -- classifier as estimator object\n",
    "\n",
    "    \"\"\"\n",
    "    model.fit(x_train, y_train)\n",
    "    y_test_pred = model.predict(x_test)\n",
    "    print(f\"The F1-Score for the modell {model} is {round(f1_score(y_test, y_test_pred),2)}.\")\n",
    "    return f1_score(y_test, y_test_pred)"
   ]
  },
  {
   "cell_type": "markdown",
   "metadata": {},
   "source": [
    "The function `calc_balanced_accuracy_score` calculates the balanced accuracy for a given ML modell."
   ]
  },
  {
   "cell_type": "code",
   "execution_count": 23,
   "metadata": {},
   "outputs": [],
   "source": [
    "def calc_balanced_accuracy_score(model, x_train, y_train, x_test, y_test):\n",
    "    \"\"\"calculate the balanced accuracy of a model\n",
    "\n",
    "    Keywords arguments:\n",
    "    x_train -- train data as dataframe\n",
    "    y_train -- train target as dataframe\n",
    "    x_test  -- test data as dataframe\n",
    "    y_test  -- test target as dataframe\n",
    "    model   -- classifier as estimator object\n",
    "\n",
    "    \"\"\"\n",
    "    model.fit(x_train, y_train)\n",
    "    y_test_pred = model.predict(x_test)\n",
    "    print(\n",
    "        \"\"\"f\"The balanced accuracy score for the modell {model} is\n",
    "         {round(balanced_accuracy_score(y_test, y_test_pred),2)}.\"\"\"\n",
    "    )\n",
    "    return balanced_accuracy_score(y_test, y_test_pred)"
   ]
  },
  {
   "cell_type": "markdown",
   "metadata": {},
   "source": [
    "The function `plot_confusion_matrix` uses the seaborn library to plot a confusion matrix. I used the seaborn libaray to add specific lables and titles."
   ]
  },
  {
   "cell_type": "code",
   "execution_count": 24,
   "metadata": {},
   "outputs": [],
   "source": [
    "def plot_cm_matrix(cm, plot_nr):\n",
    "    \"\"\"create a seaborn heatmap to show the confusion matrix\n",
    "\n",
    "    Keywords arguments:\n",
    "    cm -- confusion matrix\n",
    "    plot_nr -- Number of plot\n",
    "\n",
    "    \"\"\"\n",
    "    ax = plt.subplot()\n",
    "    sns.heatmap(cm, annot=True, fmt=\"g\", cmap=\"bwr\", ax=ax, linewidths=1)\n",
    "    # annot=True to annotate cells, ftm='g' to disable scientific notation\n",
    "    # labels, title and ticks\n",
    "    ax.set_xlabel(\"Predicted labels\")\n",
    "    ax.set_ylabel(\"True labels\")\n",
    "    ax.set_title(f\"Fig. {plot_nr} Confusion Matrix\")\n",
    "    ax.xaxis.set_ticklabels([\"subscribed no\", \"subscribed yes\"])\n",
    "    ax.yaxis.set_ticklabels([\"subscribed no\", \"subscribed yes\"])"
   ]
  },
  {
   "cell_type": "markdown",
   "metadata": {},
   "source": [
    "The function `plot_all_confusion_matrix` takes the evaluation dataframe and plot from all investigated ML modells the confusion matrix. This should serve for better clarity and comparison when analysing the results."
   ]
  },
  {
   "cell_type": "code",
   "execution_count": 25,
   "metadata": {},
   "outputs": [],
   "source": [
    "def plot_all_confusion_matrix(evaluation, plot_nr):\n",
    "    \"\"\"create a seaborn heatmap of all models to show the confusion matrix\n",
    "\n",
    "    Keywords arguments:\n",
    "    evaluation dataframe which has all cofusion matrix of al models included\n",
    "    \"\"\"\n",
    "\n",
    "    fig, ax = plt.subplots(1, 5)\n",
    "    plt.subplots_adjust(left=None, bottom=None, right=2.5, top=0.5, wspace=0.5, hspace=None)\n",
    "    fig.suptitle(\n",
    "        f\"Fig. {plot_nr} Overview of all Confusion matrix\",\n",
    "        horizontalalignment=\"left\",\n",
    "        y=fig.subplotpars.right - 1.8,\n",
    "        fontsize=15,\n",
    "    )\n",
    "    for i in range(0, evaluation.shape[0]):\n",
    "        sns.heatmap(\n",
    "            evaluation.iloc[i, 3].astype(\"int\"),\n",
    "            annot=True,\n",
    "            fmt=\"g\",\n",
    "            cmap=\"bwr\",\n",
    "            ax=ax[i],\n",
    "            linewidths=1,\n",
    "        )\n",
    "        ax[i].set_xlabel(\"Predicted labels\")\n",
    "        ax[i].set_ylabel(\"True labels\")\n",
    "        ax[i].set_title(f\"CM  {evaluation.iloc[i,0]}\")\n",
    "    plt.show()"
   ]
  },
  {
   "cell_type": "markdown",
   "metadata": {},
   "source": [
    "### Decision Tree <a id='5'></a> \n",
    "The first algorithm to be examined is the decision tree. First, the best combination of hyperparameters is examined by use of cross-validation. For the decision tree, the `max_depth` of 2-20 is examined. The best result is then stored in the evalutation dataframe. <br>"
   ]
  },
  {
   "cell_type": "code",
   "execution_count": 26,
   "metadata": {},
   "outputs": [
    {
     "name": "stdout",
     "output_type": "stream",
     "text": [
      "The best balanced Accuracy score is 0.62 for {'max_depth': 11} .\n"
     ]
    }
   ],
   "source": [
    "clf = tree.DecisionTreeClassifier(criterion=\"gini\", random_state=42)\n",
    "X_train_sc, y_train, X_test_sc, y_test = ml_setup(df)\n",
    "max_depth_range = list(range(2, 20))\n",
    "hyperparameter = {\"max_depth\": max_depth_range}\n",
    "score = cross_validate_setting(X_train_sc, y_train, clf, hyperparameter)\n",
    "print(\n",
    "    f\"The best balanced Accuracy score is {round(score.best_score_,2)} for {score.best_params_} .\"\n",
    ")\n",
    "evaluation_df = evaluation_df.append(\n",
    "    pd.DataFrame({\"algorithm\": [\"Decision tree\"], \"best hyperparameters\": [score.best_params_]}),\n",
    "    ignore_index=True,\n",
    ")"
   ]
  },
  {
   "cell_type": "markdown",
   "metadata": {},
   "source": [
    "For the evaluation I created a random baseline setting."
   ]
  },
  {
   "cell_type": "code",
   "execution_count": 27,
   "metadata": {},
   "outputs": [
    {
     "name": "stdout",
     "output_type": "stream",
     "text": [
      "0    3668\n",
      "1     451\n",
      "Name: y, dtype: int64\n"
     ]
    },
    {
     "data": {
      "text/plain": [
       "0.10893045537695854"
      ]
     },
     "execution_count": 27,
     "metadata": {},
     "output_type": "execute_result"
    }
   ],
   "source": [
    "# Random Baseline\n",
    "results = []\n",
    "print(df[\"y\"].value_counts())\n",
    "for x in range(1000):\n",
    "    random_truth = np.random.choice(2, len(df), p=[3668 / len(df), 451 / len(df)])\n",
    "    random_pred = np.random.choice(2, len(df), p=[3668 / len(df), 451 / len(df)])\n",
    "    results.append(f1_score(random_truth, random_pred))\n",
    "\n",
    "results = np.asarray(results)\n",
    "results.mean()"
   ]
  },
  {
   "cell_type": "markdown",
   "metadata": {},
   "source": [
    "The best balanced accuracy was found for the hyperparameter `max_depth` = 11. The best hyperparameter is now used to evaluate the model with the test data. The F1 score of 0.35 and balanced accuracy of 0.62 are considered low. But in comparison still significantly better than the random baseline which is 0.109."
   ]
  },
  {
   "cell_type": "code",
   "execution_count": 28,
   "metadata": {},
   "outputs": [
    {
     "name": "stdout",
     "output_type": "stream",
     "text": [
      "The F1-Score for the modell DecisionTreeClassifier(max_depth=11, random_state=42) is 0.35.\n",
      "f\"The balanced accuracy score for the modell {model} is\n",
      "         {round(balanced_accuracy_score(y_test, y_test_pred),2)}.\n"
     ]
    }
   ],
   "source": [
    "model = tree.DecisionTreeClassifier(criterion=\"gini\", random_state=42, max_depth=11)\n",
    "evaluation_df.iloc[0, 1] = calc_f1_score(model, X_train_sc, y_train, X_test_sc, y_test)\n",
    "model = tree.DecisionTreeClassifier(criterion=\"gini\", random_state=42, max_depth=11)\n",
    "evaluation_df.iloc[0, 2] = calc_balanced_accuracy_score(\n",
    "    model, X_train_sc, y_train, X_test_sc, y_test\n",
    ")"
   ]
  },
  {
   "cell_type": "markdown",
   "metadata": {},
   "source": [
    "Looking at Figure 6, it is clear that the classifier performs very poorly for the minority class subscribed yes. For our goal of developing a classifier that predicts the subscribed yes case well, we need to investigate other models."
   ]
  },
  {
   "cell_type": "code",
   "execution_count": 29,
   "metadata": {},
   "outputs": [
    {
     "data": {
      "image/png": "[encoded data removed]",
      "text/plain": [
       "<Figure size 432x288 with 2 Axes>"
      ]
     },
     "metadata": {
      "needs_background": "light"
     },
     "output_type": "display_data"
    }
   ],
   "source": [
    "clf = tree.DecisionTreeClassifier(criterion=\"gini\", random_state=42, max_depth=11)\n",
    "clf.fit(X_train_sc, y_train)\n",
    "y_test_pred = clf.predict(X_test_sc)\n",
    "evaluation_df.iloc[0, 3] = [np.array(confusion_matrix(y_test, y_test_pred), dtype=object)]\n",
    "cm = confusion_matrix(y_test, y_test_pred)\n",
    "plot_cm_matrix(cm, 6)"
   ]
  },
  {
   "cell_type": "markdown",
   "metadata": {},
   "source": [
    "#### Balenced Decision Tree <a id='6'></a> \n",
    "In order to create a better model, there is the method `RandomOverSampler()` for  unbalanced datasets. The method is used to give more weight to the minority class in the data set and in term oversample the minority class by picking samples at random with replacement. The result is bigger balanced train data. After changing the training data set, the cross-validation was carried out again to find the best hyperparameter. The `max_depth` of 19 was found with a balanced accuracy of 0.95. This high score again indicates overfitting."
   ]
  },
  {
   "cell_type": "code",
   "execution_count": 30,
   "metadata": {},
   "outputs": [
    {
     "name": "stdout",
     "output_type": "stream",
     "text": [
      "0    2567\n",
      "1    2567\n",
      "Name: y, dtype: int64\n",
      "The best balanced Accuracy score is 0.95 for {'max_depth': 19} .\n"
     ]
    }
   ],
   "source": [
    "ros = RandomOverSampler(random_state=42)\n",
    "X_train_sc, y_train, X_test_sc, y_test = ml_setup(df)\n",
    "X_res, y_res = ros.fit_resample(X_train_sc, y_train)\n",
    "print(y_res.value_counts())\n",
    "max_depth_range = list(range(2, 20))\n",
    "hyperparameter = {\"max_depth\": max_depth_range}\n",
    "score = cross_validate_setting(X_res, y_res, clf, hyperparameter)\n",
    "print(\n",
    "    f\"The best balanced Accuracy score is {round(score.best_score_,2)} for {score.best_params_} .\"\n",
    ")"
   ]
  },
  {
   "cell_type": "markdown",
   "metadata": {},
   "source": [
    "When testing with the new hyperparameter `max_depth`, it is noticeable that the F1 score is similar to that without the changed data set, but the balanced accuracy is significantly lower in the test set. This points very strongly to overfitting. Therefore, the experiment is carried out again with a lower `max_depth` in the cross validation setting."
   ]
  },
  {
   "cell_type": "code",
   "execution_count": 31,
   "metadata": {},
   "outputs": [
    {
     "name": "stdout",
     "output_type": "stream",
     "text": [
      "The F1-Score for the modell DecisionTreeClassifier(max_depth=19, random_state=42) is 0.3.\n",
      "f\"The balanced accuracy score for the modell {model} is\n",
      "         {round(balanced_accuracy_score(y_test, y_test_pred),2)}.\n"
     ]
    },
    {
     "data": {
      "text/plain": [
       "0.6106670703400949"
      ]
     },
     "execution_count": 31,
     "metadata": {},
     "output_type": "execute_result"
    }
   ],
   "source": [
    "model = tree.DecisionTreeClassifier(criterion=\"gini\", random_state=42, max_depth=19)\n",
    "calc_f1_score(model, X_res, y_res, X_test_sc, y_test)\n",
    "model = tree.DecisionTreeClassifier(criterion=\"gini\", random_state=42, max_depth=19)\n",
    "calc_balanced_accuracy_score(model, X_res, y_res, X_test_sc, y_test)"
   ]
  },
  {
   "cell_type": "markdown",
   "metadata": {},
   "source": [
    "To reduce overfitting, the parameter `max_depth` of 2-6 is examined. The highest balanced accuracy is found for `max_depth` of 5."
   ]
  },
  {
   "cell_type": "code",
   "execution_count": 32,
   "metadata": {},
   "outputs": [
    {
     "name": "stdout",
     "output_type": "stream",
     "text": [
      "The best balanced Accuracy score is 0.75 for {'max_depth': 5} .\n"
     ]
    }
   ],
   "source": [
    "max_depth_range = list(range(2, 6))\n",
    "hyperparameter = {\"max_depth\": max_depth_range}\n",
    "score = cross_validate_setting(X_res, y_res, clf, hyperparameter)\n",
    "print(\n",
    "    f\"The best balanced Accuracy score is {round(score.best_score_,2)} for {score.best_params_} .\"\n",
    ")\n",
    "evaluation_df = evaluation_df.append(\n",
    "    pd.DataFrame(\n",
    "        {\n",
    "            \"algorithm\": [\"bal. Decision tree\"],\n",
    "            \"best hyperparameters\": [score.best_params_],\n",
    "        }\n",
    "    ),\n",
    "    ignore_index=True,\n",
    ")"
   ]
  },
  {
   "cell_type": "markdown",
   "metadata": {},
   "source": [
    "No overfitting can now be detected when testing the hyperparameter. In addition, a significantly higher value is now achieved in the F1 score."
   ]
  },
  {
   "cell_type": "code",
   "execution_count": 33,
   "metadata": {},
   "outputs": [
    {
     "name": "stdout",
     "output_type": "stream",
     "text": [
      "The F1-Score for the modell DecisionTreeClassifier(max_depth=5, random_state=42) is 0.44.\n",
      "f\"The balanced accuracy score for the modell {model} is\n",
      "         {round(balanced_accuracy_score(y_test, y_test_pred),2)}.\n"
     ]
    }
   ],
   "source": [
    "model = tree.DecisionTreeClassifier(criterion=\"gini\", random_state=42, max_depth=5)\n",
    "evaluation_df.iloc[1, 1] = calc_f1_score(model, X_res, y_res, X_test_sc, y_test)\n",
    "model = tree.DecisionTreeClassifier(criterion=\"gini\", random_state=42, max_depth=5)\n",
    "evaluation_df.iloc[1, 2] = calc_balanced_accuracy_score(model, X_res, y_res, X_test_sc, y_test)"
   ]
  },
  {
   "cell_type": "markdown",
   "metadata": {},
   "source": [
    "In the figure 7 you can also see a higher number of true positives in the Confusion Matrix in contrast to FP as it was the case at the beginning. Compared to the random baseline, the prediction rate is 4 times higher."
   ]
  },
  {
   "cell_type": "code",
   "execution_count": 34,
   "metadata": {},
   "outputs": [
    {
     "data": {
      "image/png": "[encoded data removed]",
      "text/plain": [
       "<Figure size 432x288 with 2 Axes>"
      ]
     },
     "metadata": {
      "needs_background": "light"
     },
     "output_type": "display_data"
    }
   ],
   "source": [
    "clf = tree.DecisionTreeClassifier(criterion=\"gini\", random_state=42, max_depth=5)\n",
    "clf.fit(X_res, y_res)\n",
    "y_test_pred = clf.predict(X_test_sc)\n",
    "evaluation_df.iloc[1, 3] = [np.array(confusion_matrix(y_test, y_test_pred), dtype=object)]\n",
    "cm = confusion_matrix(y_test, y_test_pred)\n",
    "plot_cm_matrix(cm, 7)"
   ]
  },
  {
   "cell_type": "markdown",
   "metadata": {},
   "source": [
    "### Random Forest <a id='7'></a> \n",
    "The next algorithm to be examined is the RandomForest classifier. First, the best combination of hyperparameters is examined by use of cross-validation. For the random forest classifier, the `max_depth` of [2,3,5,7,8,10,11,12,13,14,15] and the `n_estimators` of [1,10,25,50,100] are examined. The best result is then stored in the evalutation dataframe. <br>"
   ]
  },
  {
   "cell_type": "code",
   "execution_count": 35,
   "metadata": {},
   "outputs": [
    {
     "name": "stdout",
     "output_type": "stream",
     "text": [
      "f\"The best balanced Accuracy score is {round(score_random_forest.best_score_,2)}\n",
      "     for {score_random_forest.best_params_} .\n"
     ]
    }
   ],
   "source": [
    "clf = RandomForestClassifier(random_state=42)\n",
    "X_train_sc, y_train, X_test_sc, y_test = ml_setup(df)\n",
    "hyperparameter = {\n",
    "    \"max_depth\": [2, 3, 5, 7, 8, 10, 11, 12, 13, 14, 15],\n",
    "    \"n_estimators\": [1, 10, 25, 50, 100],\n",
    "}\n",
    "score_random_forest = cross_validate_setting(X_train_sc, y_train, clf, hyperparameter)\n",
    "print(\n",
    "    f\"The best balanced Accuracy score is {round(score_random_forest.best_score_,2)}+ \\\n",
    "    for {score_random_forest.best_params_} .\"\n",
    ")"
   ]
  },
  {
   "cell_type": "markdown",
   "metadata": {},
   "source": [
    "The best results are shown for the hyperparameters `max_depth` of 15 and `n_estimators` of 1. That means that the random forest only takes one decision tree. The results of test case show that f1-score and the balanced accuracy are lower than the decision tree. Also the balanced accuracy is sligthly lower then in the training set. It look like that the classifier has a overfitting to the training set. "
   ]
  },
  {
   "cell_type": "code",
   "execution_count": 36,
   "metadata": {},
   "outputs": [
    {
     "name": "stdout",
     "output_type": "stream",
     "text": [
      "The F1-Score for the modell RandomForestClassifier(max_depth=15, n_estimators=1, random_state=42) is 0.26.\n",
      "f\"The balanced accuracy score for the modell {model} is\n",
      "         {round(balanced_accuracy_score(y_test, y_test_pred),2)}.\n"
     ]
    },
    {
     "data": {
      "text/plain": [
       "0.5849833484710869"
      ]
     },
     "execution_count": 36,
     "metadata": {},
     "output_type": "execute_result"
    }
   ],
   "source": [
    "model = RandomForestClassifier(criterion=\"gini\", random_state=42, max_depth=15, n_estimators=1)\n",
    "calc_f1_score(model, X_train_sc, y_train, X_test_sc, y_test)\n",
    "model = RandomForestClassifier(criterion=\"gini\", random_state=42, max_depth=15, n_estimators=1)\n",
    "calc_balanced_accuracy_score(model, X_train_sc, y_train, X_test_sc, y_test)"
   ]
  },
  {
   "cell_type": "markdown",
   "metadata": {},
   "source": [
    "To prevent overfitting, the `max_depth` and `n_estimators` are lowered and the experiment is rerun. "
   ]
  },
  {
   "cell_type": "code",
   "execution_count": 37,
   "metadata": {},
   "outputs": [
    {
     "name": "stdout",
     "output_type": "stream",
     "text": [
      " f\"The best balanced Accuracy score is {round(score_random_forest.best_score_,2)}\n",
      "    for {score_random_forest.best_params_} .\n"
     ]
    }
   ],
   "source": [
    "clf = RandomForestClassifier(random_state=42)\n",
    "X_train_sc, y_train, X_test_sc, y_test = ml_setup(df)\n",
    "hyperparameter = {\"max_depth\": [2, 3, 5, 6], \"n_estimators\": [1, 10, 25]}\n",
    "score_random_forest = cross_validate_setting(X_train_sc, y_train, clf, hyperparameter)\n",
    "print(\n",
    "    f\"The best balanced Accuracy score is {round(score_random_forest.best_score_,2)}+ \\\n",
    "     for {score_random_forest.best_params_} .\"\n",
    ")\n",
    "evaluation_df = evaluation_df.append(\n",
    "    pd.DataFrame(\n",
    "        {\n",
    "            \"algorithm\": [\"RandomForest\"],\n",
    "            \"best hyperparameters\": [score_random_forest.best_params_],\n",
    "        }\n",
    "    ),\n",
    "    ignore_index=True,\n",
    ")"
   ]
  },
  {
   "cell_type": "markdown",
   "metadata": {},
   "source": [
    "By reducing the `max_depth` to 6, overfitting can no longer be detected. In addition, the F1 score has increased significantly."
   ]
  },
  {
   "cell_type": "code",
   "execution_count": 38,
   "metadata": {},
   "outputs": [
    {
     "name": "stdout",
     "output_type": "stream",
     "text": [
      "The F1-Score for the modell RandomForestClassifier(max_depth=6, n_estimators=1, random_state=42) is 0.33.\n",
      "f\"The balanced accuracy score for the modell {model} is\n",
      "         {round(balanced_accuracy_score(y_test, y_test_pred),2)}.\n"
     ]
    }
   ],
   "source": [
    "model = RandomForestClassifier(criterion=\"gini\", random_state=42, max_depth=6, n_estimators=1)\n",
    "evaluation_df.iloc[2, 1] = calc_f1_score(model, X_train_sc, y_train, X_test_sc, y_test)\n",
    "model = RandomForestClassifier(criterion=\"gini\", random_state=42, max_depth=6, n_estimators=1)\n",
    "evaluation_df.iloc[2, 2] = calc_balanced_accuracy_score(\n",
    "    model, X_train_sc, y_train, X_test_sc, y_test\n",
    ")"
   ]
  },
  {
   "cell_type": "markdown",
   "metadata": {},
   "source": [
    "The figure 8 shows the confusion matrix of the random forest classifier.\n",
    "Despite the improvement in the F1 score, the FP prediction is significantly higher than the TP. Therefore, the RandomForest with oversampled training data is examined next. "
   ]
  },
  {
   "cell_type": "code",
   "execution_count": 39,
   "metadata": {},
   "outputs": [
    {
     "name": "stdout",
     "output_type": "stream",
     "text": [
      "[[1072   29]\n",
      " [ 103   32]]\n"
     ]
    },
    {
     "data": {
      "image/png": "[encoded data removed]",
      "text/plain": [
       "<Figure size 432x288 with 2 Axes>"
      ]
     },
     "metadata": {
      "needs_background": "light"
     },
     "output_type": "display_data"
    }
   ],
   "source": [
    "clf = RandomForestClassifier(criterion=\"gini\", random_state=42, max_depth=6, n_estimators=1)\n",
    "clf.fit(X_train_sc, y_train)\n",
    "y_test_pred = clf.predict(X_test_sc)\n",
    "print(confusion_matrix(y_test, y_test_pred))\n",
    "rdf = y_test_pred\n",
    "evaluation_df.iloc[2, 3] = [np.array(confusion_matrix(y_test, y_test_pred), dtype=object)]\n",
    "cm = confusion_matrix(y_test, y_test_pred)\n",
    "plot_cm_matrix(cm, 8)"
   ]
  },
  {
   "cell_type": "markdown",
   "metadata": {},
   "source": [
    "#### Balenced Random Forest <a id='8'></a> \n",
    "Next, the data set is to be adjusted again with the help of `RandomOverSampler()`. This led to a significantly better result with the decision tree, so I assume that there will also be an increase in prediction with the random forest."
   ]
  },
  {
   "cell_type": "code",
   "execution_count": 40,
   "metadata": {},
   "outputs": [
    {
     "name": "stdout",
     "output_type": "stream",
     "text": [
      "f\"The best balanced Accuracy score is {round(score_balanced_random_forest.best_score_,2)}\n",
      "    for {score_balanced_random_forest.best_params_} .\n"
     ]
    }
   ],
   "source": [
    "ros = RandomOverSampler(random_state=42)\n",
    "X_train_sc, y_train, X_test_sc, y_test = ml_setup(df)\n",
    "X_res, y_res = ros.fit_resample(X_train_sc, y_train)\n",
    "clf = RandomForestClassifier(random_state=42)\n",
    "hyperparameter = [\n",
    "    {\n",
    "        \"max_depth\": [2, 3, 4, 5, 6, 7, 8, 9, 10],\n",
    "        \"n_estimators\": [1, 5, 10, 15, 20, 25, 30, 35, 40, 45, 50],\n",
    "    }\n",
    "]\n",
    "score_balanced_random_forest = cross_validate_setting(X_res, y_res, clf, hyperparameter)\n",
    "print(\n",
    "    f\"The best balanced Accuracy score is {round(score_balanced_random_forest.best_score_,2)}+ \\\n",
    "     for {score_balanced_random_forest.best_params_} .\"\n",
    ")"
   ]
  },
  {
   "cell_type": "markdown",
   "metadata": {},
   "source": [
    "The best paramters found are `max_depth` of 10 and  `n_estimators` of 40. This hyperparameters lead to balanced accuracy of 0.86 for the trainig data. Comparing the balanced accuracy with test result. We can see again overfitting because there is realtivly high gap between the accuracy on train and test data. But in comparison with unbalanced data the F1 score increased. To check the overfitting, the experiment is tested again in the cross-validation with fewer and low hyperparameters."
   ]
  },
  {
   "cell_type": "code",
   "execution_count": 41,
   "metadata": {},
   "outputs": [
    {
     "name": "stdout",
     "output_type": "stream",
     "text": [
      "The F1-Score for the modell RandomForestClassifier(max_depth=10, n_estimators=40, random_state=1) is 0.48.\n",
      "f\"The balanced accuracy score for the modell {model} is\n",
      "         {round(balanced_accuracy_score(y_test, y_test_pred),2)}.\n"
     ]
    },
    {
     "data": {
      "text/plain": [
       "0.7206579876879604"
      ]
     },
     "execution_count": 41,
     "metadata": {},
     "output_type": "execute_result"
    }
   ],
   "source": [
    "model = RandomForestClassifier(criterion=\"gini\", random_state=1, max_depth=10, n_estimators=40)\n",
    "calc_f1_score(model, X_res, y_res, X_test_sc, y_test)\n",
    "model = RandomForestClassifier(criterion=\"gini\", random_state=1, max_depth=10, n_estimators=40)\n",
    "calc_balanced_accuracy_score(model, X_res, y_res, X_test_sc, y_test)"
   ]
  },
  {
   "cell_type": "markdown",
   "metadata": {},
   "source": [
    "The experiment is carried out in the same way as before, except that the hyperparameters are defined smaller."
   ]
  },
  {
   "cell_type": "code",
   "execution_count": 42,
   "metadata": {},
   "outputs": [
    {
     "name": "stdout",
     "output_type": "stream",
     "text": [
      "f\"The best balanced Accuracy score is {round(score_balanced_random_forest.best_score_,2)}\n",
      "    for {score_balanced_random_forest.best_params_} .\n"
     ]
    }
   ],
   "source": [
    "ros = RandomOverSampler(random_state=42)\n",
    "X_train_sc, y_train, X_test_sc, y_test = ml_setup(df)\n",
    "X_res, y_res = ros.fit_resample(X_train_sc, y_train)\n",
    "clf = RandomForestClassifier(random_state=42)\n",
    "hyperparameter = [{\"max_depth\": [2, 3, 4, 5, 6, 7], \"n_estimators\": [1, 5, 10, 15, 20]}]\n",
    "score_balanced_random_forest = cross_validate_setting(X_res, y_res, clf, hyperparameter)\n",
    "print(\n",
    "    f\"The best balanced Accuracy score is {round(score_balanced_random_forest.best_score_,2)}+ \\\n",
    "     for {score_balanced_random_forest.best_params_} .\"\n",
    ")\n",
    "evaluation_df = evaluation_df.append(\n",
    "    pd.DataFrame(\n",
    "        {\n",
    "            \"algorithm\": [\"bal. RandomForest\"],\n",
    "            \"best hyperparameters\": [score_balanced_random_forest.best_params_],\n",
    "        }\n",
    "    ),\n",
    "    ignore_index=True,\n",
    ")"
   ]
  },
  {
   "cell_type": "markdown",
   "metadata": {},
   "source": [
    "The best paramters found are `max_depth` of 7 and  `n_estimators` of 15. In comparison of the balanced accuracy with traing and test result no overfitting can be seen. The pruning of `max_depth` lead also to a higher F1-score. In comparison to the decision tree the random forest leads to a better F1-score."
   ]
  },
  {
   "cell_type": "code",
   "execution_count": 43,
   "metadata": {},
   "outputs": [
    {
     "name": "stdout",
     "output_type": "stream",
     "text": [
      "The F1-Score for the modell RandomForestClassifier(max_depth=7, n_estimators=15, random_state=42) is 0.45.\n",
      "f\"The balanced accuracy score for the modell {model} is\n",
      "         {round(balanced_accuracy_score(y_test, y_test_pred),2)}.\n"
     ]
    }
   ],
   "source": [
    "model = RandomForestClassifier(criterion=\"gini\", random_state=42, max_depth=7, n_estimators=15)\n",
    "evaluation_df.iloc[3, 1] = calc_f1_score(model, X_res, y_res, X_test_sc, y_test)\n",
    "model = RandomForestClassifier(criterion=\"gini\", random_state=42, max_depth=7, n_estimators=15)\n",
    "evaluation_df.iloc[3, 2] = calc_balanced_accuracy_score(model, X_res, y_res, X_test_sc, y_test)"
   ]
  },
  {
   "cell_type": "markdown",
   "metadata": {},
   "source": [
    "In the figure 9 we can see that the TP is higher to FP but the FN increased. The aim of model is the prediction of TP so it's okay if the model has a higher FN if the TP gets better."
   ]
  },
  {
   "cell_type": "code",
   "execution_count": 44,
   "metadata": {},
   "outputs": [
    {
     "data": {
      "image/png": "[encoded data removed]",
      "text/plain": [
       "<Figure size 432x288 with 2 Axes>"
      ]
     },
     "metadata": {
      "needs_background": "light"
     },
     "output_type": "display_data"
    }
   ],
   "source": [
    "clf = RandomForestClassifier(criterion=\"gini\", random_state=42, max_depth=7, n_estimators=15)\n",
    "clf.fit(X_res, y_res)\n",
    "y_test_pred = clf.predict(X_test_sc)\n",
    "balenced_rdf = y_test_pred\n",
    "evaluation_df.iloc[3, 3] = [np.array(confusion_matrix(y_test, y_test_pred), dtype=object)]\n",
    "cm = confusion_matrix(y_test, y_test_pred)\n",
    "plot_cm_matrix(cm, 9)"
   ]
  },
  {
   "cell_type": "markdown",
   "metadata": {},
   "source": [
    "### Support Vector Machine <a id='9'></a> \n",
    "The last algorithm to be examined is the Support Vector Machine algorithm. As with the other algorithms, the hyperparameters are examined first.  "
   ]
  },
  {
   "cell_type": "code",
   "execution_count": 45,
   "metadata": {},
   "outputs": [],
   "source": [
    "clf = SVC(random_state=42)\n",
    "X_train_sc, y_train, X_test_sc, y_test = ml_setup(df)\n",
    "hyperparameter = [\n",
    "    {\n",
    "        \"kernel\": [\"poly\", \"sigmoid\", \"rbf\"],\n",
    "        \"C\": [0.001, 0.01, 0.1, 10, 25, 50, 100],\n",
    "        \"gamma\": [1, 0.1, 1e-2, 1e-3, 1e-4, 1e-5],\n",
    "    }\n",
    "]\n",
    "\n",
    "score_svc = cross_validate_setting(X_train_sc, y_train, clf, hyperparameter)\n",
    "print(\n",
    "    f\"The best balanced Accuracy score is {round(score_svc.best_score_,2)} + \\\n",
    "    for {score_svc.best_params_} .\"\n",
    ")\n",
    "evaluation_df = evaluation_df.append(\n",
    "    pd.DataFrame({\"algorithm\": [\"SVM\"], \"best hyperparameters\": [score_svc.best_params_]}),\n",
    "    ignore_index=True,\n",
    ")"
   ]
  },
  {
   "cell_type": "markdown",
   "metadata": {},
   "source": [
    "The result of the cross-validation is that the SVM with `kernel` of 'rbf', `C` of 50 and `gamma` of 0.01 got the highest balanced accuracy with 0.62. <br>\n",
    "The balanced accuracy in the test da is the same like in train data. No overfitting can be seen. The result of f1 is low compared to the other algortihms."
   ]
  },
  {
   "cell_type": "code",
   "execution_count": 46,
   "metadata": {},
   "outputs": [
    {
     "name": "stdout",
     "output_type": "stream",
     "text": [
      "The F1-Score for the modell SVC(C=50, gamma=0.01) is 0.34.\n"
     ]
    },
    {
     "ename": "IndexError",
     "evalue": "iloc cannot enlarge its target object",
     "output_type": "error",
     "traceback": [
      "\u001b[1;31m---------------------------------------------------------------------------\u001b[0m",
      "\u001b[1;31mIndexError\u001b[0m                                Traceback (most recent call last)",
      "\u001b[1;32m~\\AppData\\Local\\Temp/ipykernel_13820/2102545711.py\u001b[0m in \u001b[0;36m<module>\u001b[1;34m\u001b[0m\n\u001b[0;32m      1\u001b[0m \u001b[0mmodel\u001b[0m \u001b[1;33m=\u001b[0m \u001b[0mSVC\u001b[0m\u001b[1;33m(\u001b[0m\u001b[0mkernel\u001b[0m\u001b[1;33m=\u001b[0m\u001b[1;34m\"rbf\"\u001b[0m\u001b[1;33m,\u001b[0m \u001b[0mgamma\u001b[0m\u001b[1;33m=\u001b[0m\u001b[1;36m0.01\u001b[0m\u001b[1;33m,\u001b[0m \u001b[0mC\u001b[0m\u001b[1;33m=\u001b[0m\u001b[1;36m50\u001b[0m\u001b[1;33m)\u001b[0m\u001b[1;33m\u001b[0m\u001b[1;33m\u001b[0m\u001b[0m\n\u001b[0;32m      2\u001b[0m \u001b[0mX_train_sc\u001b[0m\u001b[1;33m,\u001b[0m \u001b[0my_train\u001b[0m\u001b[1;33m,\u001b[0m \u001b[0mX_test_sc\u001b[0m\u001b[1;33m,\u001b[0m \u001b[0my_test\u001b[0m \u001b[1;33m=\u001b[0m \u001b[0mml_setup\u001b[0m\u001b[1;33m(\u001b[0m\u001b[0mdf\u001b[0m\u001b[1;33m)\u001b[0m\u001b[1;33m\u001b[0m\u001b[1;33m\u001b[0m\u001b[0m\n\u001b[1;32m----> 3\u001b[1;33m \u001b[0mevaluation_df\u001b[0m\u001b[1;33m.\u001b[0m\u001b[0miloc\u001b[0m\u001b[1;33m[\u001b[0m\u001b[1;36m4\u001b[0m\u001b[1;33m,\u001b[0m \u001b[1;36m1\u001b[0m\u001b[1;33m]\u001b[0m \u001b[1;33m=\u001b[0m \u001b[0mcalc_f1_score\u001b[0m\u001b[1;33m(\u001b[0m\u001b[0mmodel\u001b[0m\u001b[1;33m,\u001b[0m \u001b[0mX_train_sc\u001b[0m\u001b[1;33m,\u001b[0m \u001b[0my_train\u001b[0m\u001b[1;33m,\u001b[0m \u001b[0mX_test_sc\u001b[0m\u001b[1;33m,\u001b[0m \u001b[0my_test\u001b[0m\u001b[1;33m)\u001b[0m\u001b[1;33m\u001b[0m\u001b[1;33m\u001b[0m\u001b[0m\n\u001b[0m\u001b[0;32m      4\u001b[0m evaluation_df.iloc[4, 2] = calc_balanced_accuracy_score(\n\u001b[0;32m      5\u001b[0m     \u001b[0mmodel\u001b[0m\u001b[1;33m,\u001b[0m \u001b[0mX_train_sc\u001b[0m\u001b[1;33m,\u001b[0m \u001b[0my_train\u001b[0m\u001b[1;33m,\u001b[0m \u001b[0mX_test_sc\u001b[0m\u001b[1;33m,\u001b[0m \u001b[0my_test\u001b[0m\u001b[1;33m\u001b[0m\u001b[1;33m\u001b[0m\u001b[0m\n",
      "\u001b[1;32m~\\AppData\\Local\\Programs\\Python\\Python39\\lib\\site-packages\\pandas\\core\\indexing.py\u001b[0m in \u001b[0;36m__setitem__\u001b[1;34m(self, key, value)\u001b[0m\n\u001b[0;32m    718\u001b[0m             \u001b[0mkey\u001b[0m \u001b[1;33m=\u001b[0m \u001b[0mcom\u001b[0m\u001b[1;33m.\u001b[0m\u001b[0mapply_if_callable\u001b[0m\u001b[1;33m(\u001b[0m\u001b[0mkey\u001b[0m\u001b[1;33m,\u001b[0m \u001b[0mself\u001b[0m\u001b[1;33m.\u001b[0m\u001b[0mobj\u001b[0m\u001b[1;33m)\u001b[0m\u001b[1;33m\u001b[0m\u001b[1;33m\u001b[0m\u001b[0m\n\u001b[0;32m    719\u001b[0m         \u001b[0mindexer\u001b[0m \u001b[1;33m=\u001b[0m \u001b[0mself\u001b[0m\u001b[1;33m.\u001b[0m\u001b[0m_get_setitem_indexer\u001b[0m\u001b[1;33m(\u001b[0m\u001b[0mkey\u001b[0m\u001b[1;33m)\u001b[0m\u001b[1;33m\u001b[0m\u001b[1;33m\u001b[0m\u001b[0m\n\u001b[1;32m--> 720\u001b[1;33m         \u001b[0mself\u001b[0m\u001b[1;33m.\u001b[0m\u001b[0m_has_valid_setitem_indexer\u001b[0m\u001b[1;33m(\u001b[0m\u001b[0mkey\u001b[0m\u001b[1;33m)\u001b[0m\u001b[1;33m\u001b[0m\u001b[1;33m\u001b[0m\u001b[0m\n\u001b[0m\u001b[0;32m    721\u001b[0m \u001b[1;33m\u001b[0m\u001b[0m\n\u001b[0;32m    722\u001b[0m         \u001b[0miloc\u001b[0m \u001b[1;33m=\u001b[0m \u001b[0mself\u001b[0m \u001b[1;32mif\u001b[0m \u001b[0mself\u001b[0m\u001b[1;33m.\u001b[0m\u001b[0mname\u001b[0m \u001b[1;33m==\u001b[0m \u001b[1;34m\"iloc\"\u001b[0m \u001b[1;32melse\u001b[0m \u001b[0mself\u001b[0m\u001b[1;33m.\u001b[0m\u001b[0mobj\u001b[0m\u001b[1;33m.\u001b[0m\u001b[0miloc\u001b[0m\u001b[1;33m\u001b[0m\u001b[1;33m\u001b[0m\u001b[0m\n",
      "\u001b[1;32m~\\AppData\\Local\\Programs\\Python\\Python39\\lib\\site-packages\\pandas\\core\\indexing.py\u001b[0m in \u001b[0;36m_has_valid_setitem_indexer\u001b[1;34m(self, indexer)\u001b[0m\n\u001b[0;32m   1459\u001b[0m             \u001b[1;32melif\u001b[0m \u001b[0mis_integer\u001b[0m\u001b[1;33m(\u001b[0m\u001b[0mi\u001b[0m\u001b[1;33m)\u001b[0m\u001b[1;33m:\u001b[0m\u001b[1;33m\u001b[0m\u001b[1;33m\u001b[0m\u001b[0m\n\u001b[0;32m   1460\u001b[0m                 \u001b[1;32mif\u001b[0m \u001b[0mi\u001b[0m \u001b[1;33m>=\u001b[0m \u001b[0mlen\u001b[0m\u001b[1;33m(\u001b[0m\u001b[0max\u001b[0m\u001b[1;33m)\u001b[0m\u001b[1;33m:\u001b[0m\u001b[1;33m\u001b[0m\u001b[1;33m\u001b[0m\u001b[0m\n\u001b[1;32m-> 1461\u001b[1;33m                     \u001b[1;32mraise\u001b[0m \u001b[0mIndexError\u001b[0m\u001b[1;33m(\u001b[0m\u001b[1;34m\"iloc cannot enlarge its target object\"\u001b[0m\u001b[1;33m)\u001b[0m\u001b[1;33m\u001b[0m\u001b[1;33m\u001b[0m\u001b[0m\n\u001b[0m\u001b[0;32m   1462\u001b[0m             \u001b[1;32melif\u001b[0m \u001b[0misinstance\u001b[0m\u001b[1;33m(\u001b[0m\u001b[0mi\u001b[0m\u001b[1;33m,\u001b[0m \u001b[0mdict\u001b[0m\u001b[1;33m)\u001b[0m\u001b[1;33m:\u001b[0m\u001b[1;33m\u001b[0m\u001b[1;33m\u001b[0m\u001b[0m\n\u001b[0;32m   1463\u001b[0m                 \u001b[1;32mraise\u001b[0m \u001b[0mIndexError\u001b[0m\u001b[1;33m(\u001b[0m\u001b[1;34m\"iloc cannot enlarge its target object\"\u001b[0m\u001b[1;33m)\u001b[0m\u001b[1;33m\u001b[0m\u001b[1;33m\u001b[0m\u001b[0m\n",
      "\u001b[1;31mIndexError\u001b[0m: iloc cannot enlarge its target object"
     ]
    }
   ],
   "source": [
    "model = SVC(kernel=\"rbf\", gamma=0.01, C=50)\n",
    "X_train_sc, y_train, X_test_sc, y_test = ml_setup(df)\n",
    "evaluation_df.iloc[4, 1] = calc_f1_score(model, X_train_sc, y_train, X_test_sc, y_test)\n",
    "evaluation_df.iloc[4, 2] = calc_balanced_accuracy_score(\n",
    "    model, X_train_sc, y_train, X_test_sc, y_test\n",
    ")"
   ]
  },
  {
   "cell_type": "markdown",
   "metadata": {},
   "source": [
    "Looking at Figure 10, it is clear that the classifier performs very poorly for the minority class subscribed yes. The TP is clearly lower then FN. To improve the results, the minority class should be taken into account more in the training data, as is the case with the other algorithms."
   ]
  },
  {
   "cell_type": "code",
   "execution_count": null,
   "metadata": {},
   "outputs": [
    {
     "data": {
      "image/png": "[encoded data removed]",
      "text/plain": [
       "<Figure size 432x288 with 2 Axes>"
      ]
     },
     "metadata": {
      "needs_background": "light"
     },
     "output_type": "display_data"
    }
   ],
   "source": [
    "y_test_pred = model.predict(X_test_sc)\n",
    "evaluation_df.iloc[4, 3] = [np.array(confusion_matrix(y_test, y_test_pred), dtype=object)]\n",
    "cm = confusion_matrix(y_test, y_test_pred)\n",
    "plot_cm_matrix(cm, 10)"
   ]
  },
  {
   "cell_type": "markdown",
   "metadata": {},
   "source": [
    "### Results<a id='10'></a> \n",
    "The `evaluation_df` dataframe shows the best result of each classifier with the best hyperparameter. The best results were achieved for the balanced decision tree and balanced random forest. The F1 scores of 0.43 for the balanced decision tree and 0.44 balanced random forest are significantly better compared to the random baseline of 0.109. Figure 11 shows a very good comparison of the results of all classifiers. The goal of the classifier to have the highest possible true positive rate was achieved most successfully with the balanced random forest.  There is a drastic difference in the result when adjusting the inbalanced data using the RandomOversamler. For the SVM, no test with balenced data could be carried out because the test would have taken too long. This could be tried to be trained in the cloud to get a comparison with the other classifiers. <br>\n",
    "The next steps to increase the success of the bank and to achieve a higher sales quota in terms of financial products are to carry out a customer segmentation. Data exploration has shown that different professions buy more financial products on average. These customers could be called more often and special offers could be made in an attempt to achieve a higher sales quota. The next step in improving the machine learning model is to customise the models for the different customer segmentations. Furthermore, the model can be improved by using more data. For this model, only 10% of the initial data was used. The model could then be trained in the cloud to use a higher computing power."
   ]
  },
  {
   "cell_type": "code",
   "execution_count": null,
   "metadata": {},
   "outputs": [
    {
     "data": {
      "text/html": [
       "<div>\n",
       "<style scoped>\n",
       "    .dataframe tbody tr th:only-of-type {\n",
       "        vertical-align: middle;\n",
       "    }\n",
       "\n",
       "    .dataframe tbody tr th {\n",
       "        vertical-align: top;\n",
       "    }\n",
       "\n",
       "    .dataframe thead th {\n",
       "        text-align: right;\n",
       "    }\n",
       "</style>\n",
       "<table border=\"1\" class=\"dataframe\">\n",
       "  <thead>\n",
       "    <tr style=\"text-align: right;\">\n",
       "      <th></th>\n",
       "      <th>algorithm</th>\n",
       "      <th>F1_score</th>\n",
       "      <th>balanced accuracy</th>\n",
       "      <th>confusion matrix</th>\n",
       "      <th>best hyperparameters</th>\n",
       "    </tr>\n",
       "  </thead>\n",
       "  <tbody>\n",
       "    <tr>\n",
       "      <th>0</th>\n",
       "      <td>Decision tree</td>\n",
       "      <td>0.347032</td>\n",
       "      <td>0.619851</td>\n",
       "      <td>[[1055, 46], [97, 38]]</td>\n",
       "      <td>{'max_depth': 11}</td>\n",
       "    </tr>\n",
       "    <tr>\n",
       "      <th>1</th>\n",
       "      <td>bal. Decision tree</td>\n",
       "      <td>0.435583</td>\n",
       "      <td>0.708467</td>\n",
       "      <td>[[981, 120], [64, 71]]</td>\n",
       "      <td>{'max_depth': 5}</td>\n",
       "    </tr>\n",
       "    <tr>\n",
       "      <th>2</th>\n",
       "      <td>RandomForest</td>\n",
       "      <td>0.326531</td>\n",
       "      <td>0.605349</td>\n",
       "      <td>[[1072, 29], [103, 32]]</td>\n",
       "      <td>{'max_depth': 6, 'n_estimators': 1}</td>\n",
       "    </tr>\n",
       "    <tr>\n",
       "      <th>3</th>\n",
       "      <td>bal. RandomForest</td>\n",
       "      <td>0.447674</td>\n",
       "      <td>0.725240</td>\n",
       "      <td>[[969, 132], [58, 77]]</td>\n",
       "      <td>{'max_depth': 7, 'n_estimators': 15}</td>\n",
       "    </tr>\n",
       "    <tr>\n",
       "      <th>4</th>\n",
       "      <td>SVM</td>\n",
       "      <td>0.343891</td>\n",
       "      <td>0.618942</td>\n",
       "      <td>[[1053, 48], [97, 38]]</td>\n",
       "      <td>{'C': 50, 'gamma': 0.01, 'kernel': 'rbf'}</td>\n",
       "    </tr>\n",
       "  </tbody>\n",
       "</table>\n",
       "</div>"
      ],
      "text/plain": [
       "            algorithm  F1_score  balanced accuracy         confusion matrix  \\\n",
       "0       Decision tree  0.347032           0.619851   [[1055, 46], [97, 38]]   \n",
       "1  bal. Decision tree  0.435583           0.708467   [[981, 120], [64, 71]]   \n",
       "2        RandomForest  0.326531           0.605349  [[1072, 29], [103, 32]]   \n",
       "3   bal. RandomForest  0.447674           0.725240   [[969, 132], [58, 77]]   \n",
       "4                 SVM  0.343891           0.618942   [[1053, 48], [97, 38]]   \n",
       "\n",
       "                        best hyperparameters  \n",
       "0                          {'max_depth': 11}  \n",
       "1                           {'max_depth': 5}  \n",
       "2        {'max_depth': 6, 'n_estimators': 1}  \n",
       "3       {'max_depth': 7, 'n_estimators': 15}  \n",
       "4  {'C': 50, 'gamma': 0.01, 'kernel': 'rbf'}  "
      ]
     },
     "execution_count": 47,
     "metadata": {},
     "output_type": "execute_result"
    }
   ],
   "source": [
    "evaluation_df"
   ]
  },
  {
   "cell_type": "code",
   "execution_count": null,
   "metadata": {},
   "outputs": [
    {
     "name": "stdout",
     "output_type": "stream",
     "text": [
      "0    3668\n",
      "1     451\n",
      "Name: y, dtype: int64\n",
      "The result of random guessing is 0.10929678286744243\n"
     ]
    }
   ],
   "source": [
    "# Benchmark with random baseline\n",
    "results = []\n",
    "print(df[\"y\"].value_counts())\n",
    "for x in range(1000):\n",
    "    random_truth = np.random.choice(2, len(df), p=[3668 / len(df), 451 / len(df)])\n",
    "    random_pred = np.random.choice(2, len(df), p=[3668 / len(df), 451 / len(df)])\n",
    "    results.append(f1_score(random_truth, random_pred))\n",
    "\n",
    "results = np.asarray(results)\n",
    "print(f\"The result of random guessing is {results.mean()}\")"
   ]
  },
  {
   "cell_type": "code",
   "execution_count": null,
   "metadata": {},
   "outputs": [
    {
     "data": {
      "image/png": "[encoded data removed]",
      "text/plain": [
       "<Figure size 432x288 with 10 Axes>"
      ]
     },
     "metadata": {
      "needs_background": "light"
     },
     "output_type": "display_data"
    }
   ],
   "source": [
    "plot_all_confusion_matrix(evaluation_df, 11)"
   ]
  },
  {
   "cell_type": "markdown",
   "metadata": {},
   "source": [
    "## References<a id='11'></a> \n",
    "\n",
    "[1]<a id='100'></a>      Dua, D. and Graff, C. (2019). UCI Machine Learning Repository [https://archive.ics.uci.edu/ml/datasets/bank+marketing](https://archive.ics.uci.edu/ml/datasets/bank+marketing)"
   ]
  }
 ],
 "metadata": {
  "interpreter": {
   "hash": "4c0d60a8dc4e599671dda9aae91492f37892c3bc3698cd654f77b9c4642bb760"
  },
  "kernelspec": {
   "display_name": "Python 3.9.4 64-bit",
   "language": "python",
   "name": "python3"
  },
  "language_info": {
   "codemirror_mode": {
    "name": "ipython",
    "version": 3
   },
   "file_extension": ".py",
   "mimetype": "text/x-python",
   "name": "python",
   "nbconvert_exporter": "python",
   "pygments_lexer": "ipython3",
   "version": "3.9.4"
  }
 },
 "nbformat": 4,
 "nbformat_minor": 2
}
